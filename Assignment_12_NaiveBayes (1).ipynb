{
  "cells": [
    {
      "cell_type": "markdown",
      "id": "7411f7b0",
      "metadata": {
        "id": "7411f7b0"
      },
      "source": [
        "# Naive Bayes Classification\n",
        "\n",
        "It is a classification technique based on Bayes’ Theorem with an independence assumption among predictors. In simple terms, a Naive Bayes classifier assumes that the presence of a particular feature in a class is unrelated to the presence of any other feature.\n",
        "\n",
        "The Naïve Bayes classifier is a popular supervised machine learning algorithm used for classification tasks such as text classification. It belongs to the family of generative learning algorithms, which means that it models the distribution of inputs for a given class or category. This approach is based on the assumption that the features of the input data are conditionally independent given the class, allowing the algorithm to make predictions quickly and accurately."
      ]
    },
    {
      "cell_type": "code",
      "execution_count": null,
      "id": "40fbc805",
      "metadata": {
        "id": "40fbc805"
      },
      "outputs": [],
      "source": [
        "import pandas as pd\n",
        "import numpy as np\n",
        "import matplotlib.pyplot as plt\n",
        "import seaborn as sns\n",
        "import warnings\n",
        "warnings.filterwarnings('ignore')\n",
        "from sklearn.preprocessing import StandardScaler\n",
        "from sklearn.model_selection import train_test_split,cross_val_score\n"
      ]
    },
    {
      "cell_type": "code",
      "execution_count": null,
      "id": "c2f00867",
      "metadata": {
        "id": "c2f00867"
      },
      "outputs": [],
      "source": [
        "train=pd.read_csv('SalaryData_Train.csv')"
      ]
    },
    {
      "cell_type": "code",
      "execution_count": null,
      "id": "c46b04c5",
      "metadata": {
        "id": "c46b04c5"
      },
      "outputs": [],
      "source": [
        "test=pd.read_csv('SalaryData_Test.csv')"
      ]
    },
    {
      "cell_type": "code",
      "execution_count": null,
      "id": "4f55d123",
      "metadata": {
        "id": "4f55d123",
        "outputId": "42e6486c-6b0c-4004-bf94-b1cc58a0cd82"
      },
      "outputs": [
        {
          "data": {
            "text/html": [
              "<div>\n",
              "<style scoped>\n",
              "    .dataframe tbody tr th:only-of-type {\n",
              "        vertical-align: middle;\n",
              "    }\n",
              "\n",
              "    .dataframe tbody tr th {\n",
              "        vertical-align: top;\n",
              "    }\n",
              "\n",
              "    .dataframe thead th {\n",
              "        text-align: right;\n",
              "    }\n",
              "</style>\n",
              "<table border=\"1\" class=\"dataframe\">\n",
              "  <thead>\n",
              "    <tr style=\"text-align: right;\">\n",
              "      <th></th>\n",
              "      <th>age</th>\n",
              "      <th>workclass</th>\n",
              "      <th>education</th>\n",
              "      <th>educationno</th>\n",
              "      <th>maritalstatus</th>\n",
              "      <th>occupation</th>\n",
              "      <th>relationship</th>\n",
              "      <th>race</th>\n",
              "      <th>sex</th>\n",
              "      <th>capitalgain</th>\n",
              "      <th>capitalloss</th>\n",
              "      <th>hoursperweek</th>\n",
              "      <th>native</th>\n",
              "      <th>Salary</th>\n",
              "    </tr>\n",
              "  </thead>\n",
              "  <tbody>\n",
              "    <tr>\n",
              "      <th>0</th>\n",
              "      <td>39</td>\n",
              "      <td>State-gov</td>\n",
              "      <td>Bachelors</td>\n",
              "      <td>13</td>\n",
              "      <td>Never-married</td>\n",
              "      <td>Adm-clerical</td>\n",
              "      <td>Not-in-family</td>\n",
              "      <td>White</td>\n",
              "      <td>Male</td>\n",
              "      <td>2174</td>\n",
              "      <td>0</td>\n",
              "      <td>40</td>\n",
              "      <td>United-States</td>\n",
              "      <td>&lt;=50K</td>\n",
              "    </tr>\n",
              "    <tr>\n",
              "      <th>1</th>\n",
              "      <td>50</td>\n",
              "      <td>Self-emp-not-inc</td>\n",
              "      <td>Bachelors</td>\n",
              "      <td>13</td>\n",
              "      <td>Married-civ-spouse</td>\n",
              "      <td>Exec-managerial</td>\n",
              "      <td>Husband</td>\n",
              "      <td>White</td>\n",
              "      <td>Male</td>\n",
              "      <td>0</td>\n",
              "      <td>0</td>\n",
              "      <td>13</td>\n",
              "      <td>United-States</td>\n",
              "      <td>&lt;=50K</td>\n",
              "    </tr>\n",
              "    <tr>\n",
              "      <th>2</th>\n",
              "      <td>38</td>\n",
              "      <td>Private</td>\n",
              "      <td>HS-grad</td>\n",
              "      <td>9</td>\n",
              "      <td>Divorced</td>\n",
              "      <td>Handlers-cleaners</td>\n",
              "      <td>Not-in-family</td>\n",
              "      <td>White</td>\n",
              "      <td>Male</td>\n",
              "      <td>0</td>\n",
              "      <td>0</td>\n",
              "      <td>40</td>\n",
              "      <td>United-States</td>\n",
              "      <td>&lt;=50K</td>\n",
              "    </tr>\n",
              "    <tr>\n",
              "      <th>3</th>\n",
              "      <td>53</td>\n",
              "      <td>Private</td>\n",
              "      <td>11th</td>\n",
              "      <td>7</td>\n",
              "      <td>Married-civ-spouse</td>\n",
              "      <td>Handlers-cleaners</td>\n",
              "      <td>Husband</td>\n",
              "      <td>Black</td>\n",
              "      <td>Male</td>\n",
              "      <td>0</td>\n",
              "      <td>0</td>\n",
              "      <td>40</td>\n",
              "      <td>United-States</td>\n",
              "      <td>&lt;=50K</td>\n",
              "    </tr>\n",
              "    <tr>\n",
              "      <th>4</th>\n",
              "      <td>28</td>\n",
              "      <td>Private</td>\n",
              "      <td>Bachelors</td>\n",
              "      <td>13</td>\n",
              "      <td>Married-civ-spouse</td>\n",
              "      <td>Prof-specialty</td>\n",
              "      <td>Wife</td>\n",
              "      <td>Black</td>\n",
              "      <td>Female</td>\n",
              "      <td>0</td>\n",
              "      <td>0</td>\n",
              "      <td>40</td>\n",
              "      <td>Cuba</td>\n",
              "      <td>&lt;=50K</td>\n",
              "    </tr>\n",
              "  </tbody>\n",
              "</table>\n",
              "</div>"
            ],
            "text/plain": [
              "   age          workclass   education  educationno        maritalstatus  \\\n",
              "0   39          State-gov   Bachelors           13        Never-married   \n",
              "1   50   Self-emp-not-inc   Bachelors           13   Married-civ-spouse   \n",
              "2   38            Private     HS-grad            9             Divorced   \n",
              "3   53            Private        11th            7   Married-civ-spouse   \n",
              "4   28            Private   Bachelors           13   Married-civ-spouse   \n",
              "\n",
              "           occupation    relationship    race      sex  capitalgain  \\\n",
              "0        Adm-clerical   Not-in-family   White     Male         2174   \n",
              "1     Exec-managerial         Husband   White     Male            0   \n",
              "2   Handlers-cleaners   Not-in-family   White     Male            0   \n",
              "3   Handlers-cleaners         Husband   Black     Male            0   \n",
              "4      Prof-specialty            Wife   Black   Female            0   \n",
              "\n",
              "   capitalloss  hoursperweek          native  Salary  \n",
              "0            0            40   United-States   <=50K  \n",
              "1            0            13   United-States   <=50K  \n",
              "2            0            40   United-States   <=50K  \n",
              "3            0            40   United-States   <=50K  \n",
              "4            0            40            Cuba   <=50K  "
            ]
          },
          "execution_count": 74,
          "metadata": {},
          "output_type": "execute_result"
        }
      ],
      "source": [
        "train.head()"
      ]
    },
    {
      "cell_type": "code",
      "execution_count": null,
      "id": "001d504d",
      "metadata": {
        "id": "001d504d",
        "outputId": "2f237fc5-9e24-4c87-d0e5-5bb95bed3662"
      },
      "outputs": [
        {
          "data": {
            "text/html": [
              "<div>\n",
              "<style scoped>\n",
              "    .dataframe tbody tr th:only-of-type {\n",
              "        vertical-align: middle;\n",
              "    }\n",
              "\n",
              "    .dataframe tbody tr th {\n",
              "        vertical-align: top;\n",
              "    }\n",
              "\n",
              "    .dataframe thead th {\n",
              "        text-align: right;\n",
              "    }\n",
              "</style>\n",
              "<table border=\"1\" class=\"dataframe\">\n",
              "  <thead>\n",
              "    <tr style=\"text-align: right;\">\n",
              "      <th></th>\n",
              "      <th>age</th>\n",
              "      <th>workclass</th>\n",
              "      <th>education</th>\n",
              "      <th>educationno</th>\n",
              "      <th>maritalstatus</th>\n",
              "      <th>occupation</th>\n",
              "      <th>relationship</th>\n",
              "      <th>race</th>\n",
              "      <th>sex</th>\n",
              "      <th>capitalgain</th>\n",
              "      <th>capitalloss</th>\n",
              "      <th>hoursperweek</th>\n",
              "      <th>native</th>\n",
              "      <th>Salary</th>\n",
              "    </tr>\n",
              "  </thead>\n",
              "  <tbody>\n",
              "    <tr>\n",
              "      <th>0</th>\n",
              "      <td>25</td>\n",
              "      <td>Private</td>\n",
              "      <td>11th</td>\n",
              "      <td>7</td>\n",
              "      <td>Never-married</td>\n",
              "      <td>Machine-op-inspct</td>\n",
              "      <td>Own-child</td>\n",
              "      <td>Black</td>\n",
              "      <td>Male</td>\n",
              "      <td>0</td>\n",
              "      <td>0</td>\n",
              "      <td>40</td>\n",
              "      <td>United-States</td>\n",
              "      <td>&lt;=50K</td>\n",
              "    </tr>\n",
              "    <tr>\n",
              "      <th>1</th>\n",
              "      <td>38</td>\n",
              "      <td>Private</td>\n",
              "      <td>HS-grad</td>\n",
              "      <td>9</td>\n",
              "      <td>Married-civ-spouse</td>\n",
              "      <td>Farming-fishing</td>\n",
              "      <td>Husband</td>\n",
              "      <td>White</td>\n",
              "      <td>Male</td>\n",
              "      <td>0</td>\n",
              "      <td>0</td>\n",
              "      <td>50</td>\n",
              "      <td>United-States</td>\n",
              "      <td>&lt;=50K</td>\n",
              "    </tr>\n",
              "    <tr>\n",
              "      <th>2</th>\n",
              "      <td>28</td>\n",
              "      <td>Local-gov</td>\n",
              "      <td>Assoc-acdm</td>\n",
              "      <td>12</td>\n",
              "      <td>Married-civ-spouse</td>\n",
              "      <td>Protective-serv</td>\n",
              "      <td>Husband</td>\n",
              "      <td>White</td>\n",
              "      <td>Male</td>\n",
              "      <td>0</td>\n",
              "      <td>0</td>\n",
              "      <td>40</td>\n",
              "      <td>United-States</td>\n",
              "      <td>&gt;50K</td>\n",
              "    </tr>\n",
              "    <tr>\n",
              "      <th>3</th>\n",
              "      <td>44</td>\n",
              "      <td>Private</td>\n",
              "      <td>Some-college</td>\n",
              "      <td>10</td>\n",
              "      <td>Married-civ-spouse</td>\n",
              "      <td>Machine-op-inspct</td>\n",
              "      <td>Husband</td>\n",
              "      <td>Black</td>\n",
              "      <td>Male</td>\n",
              "      <td>7688</td>\n",
              "      <td>0</td>\n",
              "      <td>40</td>\n",
              "      <td>United-States</td>\n",
              "      <td>&gt;50K</td>\n",
              "    </tr>\n",
              "    <tr>\n",
              "      <th>4</th>\n",
              "      <td>34</td>\n",
              "      <td>Private</td>\n",
              "      <td>10th</td>\n",
              "      <td>6</td>\n",
              "      <td>Never-married</td>\n",
              "      <td>Other-service</td>\n",
              "      <td>Not-in-family</td>\n",
              "      <td>White</td>\n",
              "      <td>Male</td>\n",
              "      <td>0</td>\n",
              "      <td>0</td>\n",
              "      <td>30</td>\n",
              "      <td>United-States</td>\n",
              "      <td>&lt;=50K</td>\n",
              "    </tr>\n",
              "  </tbody>\n",
              "</table>\n",
              "</div>"
            ],
            "text/plain": [
              "   age   workclass      education  educationno        maritalstatus  \\\n",
              "0   25     Private           11th            7        Never-married   \n",
              "1   38     Private        HS-grad            9   Married-civ-spouse   \n",
              "2   28   Local-gov     Assoc-acdm           12   Married-civ-spouse   \n",
              "3   44     Private   Some-college           10   Married-civ-spouse   \n",
              "4   34     Private           10th            6        Never-married   \n",
              "\n",
              "           occupation    relationship    race    sex  capitalgain  \\\n",
              "0   Machine-op-inspct       Own-child   Black   Male            0   \n",
              "1     Farming-fishing         Husband   White   Male            0   \n",
              "2     Protective-serv         Husband   White   Male            0   \n",
              "3   Machine-op-inspct         Husband   Black   Male         7688   \n",
              "4       Other-service   Not-in-family   White   Male            0   \n",
              "\n",
              "   capitalloss  hoursperweek          native  Salary  \n",
              "0            0            40   United-States   <=50K  \n",
              "1            0            50   United-States   <=50K  \n",
              "2            0            40   United-States    >50K  \n",
              "3            0            40   United-States    >50K  \n",
              "4            0            30   United-States   <=50K  "
            ]
          },
          "execution_count": 75,
          "metadata": {},
          "output_type": "execute_result"
        }
      ],
      "source": [
        "test.head()"
      ]
    },
    {
      "cell_type": "code",
      "execution_count": null,
      "id": "222a468d",
      "metadata": {
        "id": "222a468d",
        "outputId": "b9b2e735-2cc1-4fea-a87a-da8bc3e3394d"
      },
      "outputs": [
        {
          "data": {
            "text/plain": [
              "(30161, 14)"
            ]
          },
          "execution_count": 76,
          "metadata": {},
          "output_type": "execute_result"
        }
      ],
      "source": [
        "train.shape"
      ]
    },
    {
      "cell_type": "code",
      "execution_count": null,
      "id": "53bf111d",
      "metadata": {
        "id": "53bf111d",
        "outputId": "abcdfada-cc08-41ee-b42a-9c44d4db23a6"
      },
      "outputs": [
        {
          "data": {
            "text/plain": [
              "(15060, 14)"
            ]
          },
          "execution_count": 77,
          "metadata": {},
          "output_type": "execute_result"
        }
      ],
      "source": [
        "test.shape"
      ]
    },
    {
      "cell_type": "code",
      "execution_count": null,
      "id": "c49e46af",
      "metadata": {
        "id": "c49e46af",
        "outputId": "32313cdc-3985-4d26-85aa-49def941f271"
      },
      "outputs": [
        {
          "name": "stdout",
          "output_type": "stream",
          "text": [
            "<class 'pandas.core.frame.DataFrame'>\n",
            "RangeIndex: 30161 entries, 0 to 30160\n",
            "Data columns (total 14 columns):\n",
            " #   Column         Non-Null Count  Dtype \n",
            "---  ------         --------------  ----- \n",
            " 0   age            30161 non-null  int64 \n",
            " 1   workclass      30161 non-null  object\n",
            " 2   education      30161 non-null  object\n",
            " 3   educationno    30161 non-null  int64 \n",
            " 4   maritalstatus  30161 non-null  object\n",
            " 5   occupation     30161 non-null  object\n",
            " 6   relationship   30161 non-null  object\n",
            " 7   race           30161 non-null  object\n",
            " 8   sex            30161 non-null  object\n",
            " 9   capitalgain    30161 non-null  int64 \n",
            " 10  capitalloss    30161 non-null  int64 \n",
            " 11  hoursperweek   30161 non-null  int64 \n",
            " 12  native         30161 non-null  object\n",
            " 13  Salary         30161 non-null  object\n",
            "dtypes: int64(5), object(9)\n",
            "memory usage: 3.2+ MB\n"
          ]
        }
      ],
      "source": [
        "train.info()"
      ]
    },
    {
      "cell_type": "code",
      "execution_count": null,
      "id": "6f6d64a1",
      "metadata": {
        "id": "6f6d64a1",
        "outputId": "7ee2b4cb-38ac-4904-a6d1-174a66a21eb6"
      },
      "outputs": [
        {
          "name": "stdout",
          "output_type": "stream",
          "text": [
            "<class 'pandas.core.frame.DataFrame'>\n",
            "RangeIndex: 15060 entries, 0 to 15059\n",
            "Data columns (total 14 columns):\n",
            " #   Column         Non-Null Count  Dtype \n",
            "---  ------         --------------  ----- \n",
            " 0   age            15060 non-null  int64 \n",
            " 1   workclass      15060 non-null  object\n",
            " 2   education      15060 non-null  object\n",
            " 3   educationno    15060 non-null  int64 \n",
            " 4   maritalstatus  15060 non-null  object\n",
            " 5   occupation     15060 non-null  object\n",
            " 6   relationship   15060 non-null  object\n",
            " 7   race           15060 non-null  object\n",
            " 8   sex            15060 non-null  object\n",
            " 9   capitalgain    15060 non-null  int64 \n",
            " 10  capitalloss    15060 non-null  int64 \n",
            " 11  hoursperweek   15060 non-null  int64 \n",
            " 12  native         15060 non-null  object\n",
            " 13  Salary         15060 non-null  object\n",
            "dtypes: int64(5), object(9)\n",
            "memory usage: 1.6+ MB\n"
          ]
        }
      ],
      "source": [
        "test.info()"
      ]
    },
    {
      "cell_type": "code",
      "execution_count": null,
      "id": "49a26797",
      "metadata": {
        "id": "49a26797",
        "outputId": "01e764a0-91c5-4162-94af-3cb1862a3c3d"
      },
      "outputs": [
        {
          "data": {
            "text/html": [
              "<div>\n",
              "<style scoped>\n",
              "    .dataframe tbody tr th:only-of-type {\n",
              "        vertical-align: middle;\n",
              "    }\n",
              "\n",
              "    .dataframe tbody tr th {\n",
              "        vertical-align: top;\n",
              "    }\n",
              "\n",
              "    .dataframe thead th {\n",
              "        text-align: right;\n",
              "    }\n",
              "</style>\n",
              "<table border=\"1\" class=\"dataframe\">\n",
              "  <thead>\n",
              "    <tr style=\"text-align: right;\">\n",
              "      <th></th>\n",
              "      <th>age</th>\n",
              "      <th>educationno</th>\n",
              "      <th>capitalgain</th>\n",
              "      <th>capitalloss</th>\n",
              "      <th>hoursperweek</th>\n",
              "    </tr>\n",
              "  </thead>\n",
              "  <tbody>\n",
              "    <tr>\n",
              "      <th>count</th>\n",
              "      <td>30161.000000</td>\n",
              "      <td>30161.000000</td>\n",
              "      <td>30161.000000</td>\n",
              "      <td>30161.000000</td>\n",
              "      <td>30161.000000</td>\n",
              "    </tr>\n",
              "    <tr>\n",
              "      <th>mean</th>\n",
              "      <td>38.438115</td>\n",
              "      <td>10.121316</td>\n",
              "      <td>1092.044064</td>\n",
              "      <td>88.302311</td>\n",
              "      <td>40.931269</td>\n",
              "    </tr>\n",
              "    <tr>\n",
              "      <th>std</th>\n",
              "      <td>13.134830</td>\n",
              "      <td>2.550037</td>\n",
              "      <td>7406.466611</td>\n",
              "      <td>404.121321</td>\n",
              "      <td>11.980182</td>\n",
              "    </tr>\n",
              "    <tr>\n",
              "      <th>min</th>\n",
              "      <td>17.000000</td>\n",
              "      <td>1.000000</td>\n",
              "      <td>0.000000</td>\n",
              "      <td>0.000000</td>\n",
              "      <td>1.000000</td>\n",
              "    </tr>\n",
              "    <tr>\n",
              "      <th>25%</th>\n",
              "      <td>28.000000</td>\n",
              "      <td>9.000000</td>\n",
              "      <td>0.000000</td>\n",
              "      <td>0.000000</td>\n",
              "      <td>40.000000</td>\n",
              "    </tr>\n",
              "    <tr>\n",
              "      <th>50%</th>\n",
              "      <td>37.000000</td>\n",
              "      <td>10.000000</td>\n",
              "      <td>0.000000</td>\n",
              "      <td>0.000000</td>\n",
              "      <td>40.000000</td>\n",
              "    </tr>\n",
              "    <tr>\n",
              "      <th>75%</th>\n",
              "      <td>47.000000</td>\n",
              "      <td>13.000000</td>\n",
              "      <td>0.000000</td>\n",
              "      <td>0.000000</td>\n",
              "      <td>45.000000</td>\n",
              "    </tr>\n",
              "    <tr>\n",
              "      <th>max</th>\n",
              "      <td>90.000000</td>\n",
              "      <td>16.000000</td>\n",
              "      <td>99999.000000</td>\n",
              "      <td>4356.000000</td>\n",
              "      <td>99.000000</td>\n",
              "    </tr>\n",
              "  </tbody>\n",
              "</table>\n",
              "</div>"
            ],
            "text/plain": [
              "                age   educationno   capitalgain   capitalloss  hoursperweek\n",
              "count  30161.000000  30161.000000  30161.000000  30161.000000  30161.000000\n",
              "mean      38.438115     10.121316   1092.044064     88.302311     40.931269\n",
              "std       13.134830      2.550037   7406.466611    404.121321     11.980182\n",
              "min       17.000000      1.000000      0.000000      0.000000      1.000000\n",
              "25%       28.000000      9.000000      0.000000      0.000000     40.000000\n",
              "50%       37.000000     10.000000      0.000000      0.000000     40.000000\n",
              "75%       47.000000     13.000000      0.000000      0.000000     45.000000\n",
              "max       90.000000     16.000000  99999.000000   4356.000000     99.000000"
            ]
          },
          "execution_count": 80,
          "metadata": {},
          "output_type": "execute_result"
        }
      ],
      "source": [
        "train.describe()"
      ]
    },
    {
      "cell_type": "code",
      "execution_count": null,
      "id": "581284cb",
      "metadata": {
        "id": "581284cb",
        "outputId": "851abbe8-777b-4518-f4e9-c50bc8826d2c"
      },
      "outputs": [
        {
          "data": {
            "text/html": [
              "<div>\n",
              "<style scoped>\n",
              "    .dataframe tbody tr th:only-of-type {\n",
              "        vertical-align: middle;\n",
              "    }\n",
              "\n",
              "    .dataframe tbody tr th {\n",
              "        vertical-align: top;\n",
              "    }\n",
              "\n",
              "    .dataframe thead th {\n",
              "        text-align: right;\n",
              "    }\n",
              "</style>\n",
              "<table border=\"1\" class=\"dataframe\">\n",
              "  <thead>\n",
              "    <tr style=\"text-align: right;\">\n",
              "      <th></th>\n",
              "      <th>age</th>\n",
              "      <th>educationno</th>\n",
              "      <th>capitalgain</th>\n",
              "      <th>capitalloss</th>\n",
              "      <th>hoursperweek</th>\n",
              "    </tr>\n",
              "  </thead>\n",
              "  <tbody>\n",
              "    <tr>\n",
              "      <th>count</th>\n",
              "      <td>15060.000000</td>\n",
              "      <td>15060.000000</td>\n",
              "      <td>15060.000000</td>\n",
              "      <td>15060.000000</td>\n",
              "      <td>15060.000000</td>\n",
              "    </tr>\n",
              "    <tr>\n",
              "      <th>mean</th>\n",
              "      <td>38.768327</td>\n",
              "      <td>10.112749</td>\n",
              "      <td>1120.301594</td>\n",
              "      <td>89.041899</td>\n",
              "      <td>40.951594</td>\n",
              "    </tr>\n",
              "    <tr>\n",
              "      <th>std</th>\n",
              "      <td>13.380676</td>\n",
              "      <td>2.558727</td>\n",
              "      <td>7703.181842</td>\n",
              "      <td>406.283245</td>\n",
              "      <td>12.062831</td>\n",
              "    </tr>\n",
              "    <tr>\n",
              "      <th>min</th>\n",
              "      <td>17.000000</td>\n",
              "      <td>1.000000</td>\n",
              "      <td>0.000000</td>\n",
              "      <td>0.000000</td>\n",
              "      <td>1.000000</td>\n",
              "    </tr>\n",
              "    <tr>\n",
              "      <th>25%</th>\n",
              "      <td>28.000000</td>\n",
              "      <td>9.000000</td>\n",
              "      <td>0.000000</td>\n",
              "      <td>0.000000</td>\n",
              "      <td>40.000000</td>\n",
              "    </tr>\n",
              "    <tr>\n",
              "      <th>50%</th>\n",
              "      <td>37.000000</td>\n",
              "      <td>10.000000</td>\n",
              "      <td>0.000000</td>\n",
              "      <td>0.000000</td>\n",
              "      <td>40.000000</td>\n",
              "    </tr>\n",
              "    <tr>\n",
              "      <th>75%</th>\n",
              "      <td>48.000000</td>\n",
              "      <td>13.000000</td>\n",
              "      <td>0.000000</td>\n",
              "      <td>0.000000</td>\n",
              "      <td>45.000000</td>\n",
              "    </tr>\n",
              "    <tr>\n",
              "      <th>max</th>\n",
              "      <td>90.000000</td>\n",
              "      <td>16.000000</td>\n",
              "      <td>99999.000000</td>\n",
              "      <td>3770.000000</td>\n",
              "      <td>99.000000</td>\n",
              "    </tr>\n",
              "  </tbody>\n",
              "</table>\n",
              "</div>"
            ],
            "text/plain": [
              "                age   educationno   capitalgain   capitalloss  hoursperweek\n",
              "count  15060.000000  15060.000000  15060.000000  15060.000000  15060.000000\n",
              "mean      38.768327     10.112749   1120.301594     89.041899     40.951594\n",
              "std       13.380676      2.558727   7703.181842    406.283245     12.062831\n",
              "min       17.000000      1.000000      0.000000      0.000000      1.000000\n",
              "25%       28.000000      9.000000      0.000000      0.000000     40.000000\n",
              "50%       37.000000     10.000000      0.000000      0.000000     40.000000\n",
              "75%       48.000000     13.000000      0.000000      0.000000     45.000000\n",
              "max       90.000000     16.000000  99999.000000   3770.000000     99.000000"
            ]
          },
          "execution_count": 81,
          "metadata": {},
          "output_type": "execute_result"
        }
      ],
      "source": [
        "test.describe()"
      ]
    },
    {
      "cell_type": "code",
      "execution_count": null,
      "id": "3a921914",
      "metadata": {
        "id": "3a921914",
        "outputId": "6a53d897-bb66-437d-afc3-f591d4aa220b"
      },
      "outputs": [
        {
          "data": {
            "text/plain": [
              "age              0\n",
              "workclass        0\n",
              "education        0\n",
              "educationno      0\n",
              "maritalstatus    0\n",
              "occupation       0\n",
              "relationship     0\n",
              "race             0\n",
              "sex              0\n",
              "capitalgain      0\n",
              "capitalloss      0\n",
              "hoursperweek     0\n",
              "native           0\n",
              "Salary           0\n",
              "dtype: int64"
            ]
          },
          "execution_count": 82,
          "metadata": {},
          "output_type": "execute_result"
        }
      ],
      "source": [
        "train.isna().sum()"
      ]
    },
    {
      "cell_type": "code",
      "execution_count": null,
      "id": "67cf4cf3",
      "metadata": {
        "id": "67cf4cf3",
        "outputId": "2dbe4187-99cc-4e51-b95a-e14bd39927d2"
      },
      "outputs": [
        {
          "data": {
            "text/plain": [
              "age              0\n",
              "workclass        0\n",
              "education        0\n",
              "educationno      0\n",
              "maritalstatus    0\n",
              "occupation       0\n",
              "relationship     0\n",
              "race             0\n",
              "sex              0\n",
              "capitalgain      0\n",
              "capitalloss      0\n",
              "hoursperweek     0\n",
              "native           0\n",
              "Salary           0\n",
              "dtype: int64"
            ]
          },
          "execution_count": 83,
          "metadata": {},
          "output_type": "execute_result"
        }
      ],
      "source": [
        "test.isna().sum()"
      ]
    },
    {
      "cell_type": "markdown",
      "id": "3a9c2575",
      "metadata": {
        "id": "3a9c2575"
      },
      "source": [
        "# Removing The Duplicated Data."
      ]
    },
    {
      "cell_type": "code",
      "execution_count": null,
      "id": "6c69763e",
      "metadata": {
        "id": "6c69763e",
        "outputId": "13f653e7-ecc8-410a-c46f-7b414b796d6f"
      },
      "outputs": [
        {
          "data": {
            "text/plain": [
              "(3258, 14)"
            ]
          },
          "execution_count": 84,
          "metadata": {},
          "output_type": "execute_result"
        }
      ],
      "source": [
        "train[train.duplicated()].shape"
      ]
    },
    {
      "cell_type": "code",
      "execution_count": null,
      "id": "38ee6b8c",
      "metadata": {
        "id": "38ee6b8c",
        "outputId": "a0a4ba8a-85dd-4a70-a9f3-76cc4560dd18"
      },
      "outputs": [
        {
          "data": {
            "text/html": [
              "<div>\n",
              "<style scoped>\n",
              "    .dataframe tbody tr th:only-of-type {\n",
              "        vertical-align: middle;\n",
              "    }\n",
              "\n",
              "    .dataframe tbody tr th {\n",
              "        vertical-align: top;\n",
              "    }\n",
              "\n",
              "    .dataframe thead th {\n",
              "        text-align: right;\n",
              "    }\n",
              "</style>\n",
              "<table border=\"1\" class=\"dataframe\">\n",
              "  <thead>\n",
              "    <tr style=\"text-align: right;\">\n",
              "      <th></th>\n",
              "      <th>age</th>\n",
              "      <th>workclass</th>\n",
              "      <th>education</th>\n",
              "      <th>educationno</th>\n",
              "      <th>maritalstatus</th>\n",
              "      <th>occupation</th>\n",
              "      <th>relationship</th>\n",
              "      <th>race</th>\n",
              "      <th>sex</th>\n",
              "      <th>capitalgain</th>\n",
              "      <th>capitalloss</th>\n",
              "      <th>hoursperweek</th>\n",
              "      <th>native</th>\n",
              "      <th>Salary</th>\n",
              "    </tr>\n",
              "  </thead>\n",
              "  <tbody>\n",
              "    <tr>\n",
              "      <th>326</th>\n",
              "      <td>33</td>\n",
              "      <td>Private</td>\n",
              "      <td>Bachelors</td>\n",
              "      <td>13</td>\n",
              "      <td>Married-civ-spouse</td>\n",
              "      <td>Exec-managerial</td>\n",
              "      <td>Husband</td>\n",
              "      <td>White</td>\n",
              "      <td>Male</td>\n",
              "      <td>0</td>\n",
              "      <td>0</td>\n",
              "      <td>40</td>\n",
              "      <td>United-States</td>\n",
              "      <td>&gt;50K</td>\n",
              "    </tr>\n",
              "    <tr>\n",
              "      <th>364</th>\n",
              "      <td>27</td>\n",
              "      <td>Private</td>\n",
              "      <td>Bachelors</td>\n",
              "      <td>13</td>\n",
              "      <td>Never-married</td>\n",
              "      <td>Craft-repair</td>\n",
              "      <td>Not-in-family</td>\n",
              "      <td>White</td>\n",
              "      <td>Male</td>\n",
              "      <td>0</td>\n",
              "      <td>0</td>\n",
              "      <td>50</td>\n",
              "      <td>United-States</td>\n",
              "      <td>&lt;=50K</td>\n",
              "    </tr>\n",
              "    <tr>\n",
              "      <th>518</th>\n",
              "      <td>24</td>\n",
              "      <td>Private</td>\n",
              "      <td>HS-grad</td>\n",
              "      <td>9</td>\n",
              "      <td>Never-married</td>\n",
              "      <td>Handlers-cleaners</td>\n",
              "      <td>Unmarried</td>\n",
              "      <td>Black</td>\n",
              "      <td>Female</td>\n",
              "      <td>0</td>\n",
              "      <td>0</td>\n",
              "      <td>40</td>\n",
              "      <td>United-States</td>\n",
              "      <td>&lt;=50K</td>\n",
              "    </tr>\n",
              "    <tr>\n",
              "      <th>525</th>\n",
              "      <td>24</td>\n",
              "      <td>Private</td>\n",
              "      <td>HS-grad</td>\n",
              "      <td>9</td>\n",
              "      <td>Never-married</td>\n",
              "      <td>Craft-repair</td>\n",
              "      <td>Own-child</td>\n",
              "      <td>White</td>\n",
              "      <td>Male</td>\n",
              "      <td>0</td>\n",
              "      <td>0</td>\n",
              "      <td>40</td>\n",
              "      <td>United-States</td>\n",
              "      <td>&lt;=50K</td>\n",
              "    </tr>\n",
              "    <tr>\n",
              "      <th>619</th>\n",
              "      <td>33</td>\n",
              "      <td>Private</td>\n",
              "      <td>Bachelors</td>\n",
              "      <td>13</td>\n",
              "      <td>Married-civ-spouse</td>\n",
              "      <td>Exec-managerial</td>\n",
              "      <td>Husband</td>\n",
              "      <td>White</td>\n",
              "      <td>Male</td>\n",
              "      <td>0</td>\n",
              "      <td>0</td>\n",
              "      <td>40</td>\n",
              "      <td>United-States</td>\n",
              "      <td>&gt;50K</td>\n",
              "    </tr>\n",
              "    <tr>\n",
              "      <th>...</th>\n",
              "      <td>...</td>\n",
              "      <td>...</td>\n",
              "      <td>...</td>\n",
              "      <td>...</td>\n",
              "      <td>...</td>\n",
              "      <td>...</td>\n",
              "      <td>...</td>\n",
              "      <td>...</td>\n",
              "      <td>...</td>\n",
              "      <td>...</td>\n",
              "      <td>...</td>\n",
              "      <td>...</td>\n",
              "      <td>...</td>\n",
              "      <td>...</td>\n",
              "    </tr>\n",
              "    <tr>\n",
              "      <th>30110</th>\n",
              "      <td>47</td>\n",
              "      <td>Private</td>\n",
              "      <td>HS-grad</td>\n",
              "      <td>9</td>\n",
              "      <td>Married-civ-spouse</td>\n",
              "      <td>Craft-repair</td>\n",
              "      <td>Husband</td>\n",
              "      <td>White</td>\n",
              "      <td>Male</td>\n",
              "      <td>0</td>\n",
              "      <td>0</td>\n",
              "      <td>40</td>\n",
              "      <td>United-States</td>\n",
              "      <td>&lt;=50K</td>\n",
              "    </tr>\n",
              "    <tr>\n",
              "      <th>30118</th>\n",
              "      <td>20</td>\n",
              "      <td>Private</td>\n",
              "      <td>HS-grad</td>\n",
              "      <td>9</td>\n",
              "      <td>Never-married</td>\n",
              "      <td>Machine-op-inspct</td>\n",
              "      <td>Own-child</td>\n",
              "      <td>White</td>\n",
              "      <td>Male</td>\n",
              "      <td>0</td>\n",
              "      <td>0</td>\n",
              "      <td>40</td>\n",
              "      <td>United-States</td>\n",
              "      <td>&lt;=50K</td>\n",
              "    </tr>\n",
              "    <tr>\n",
              "      <th>30132</th>\n",
              "      <td>22</td>\n",
              "      <td>Private</td>\n",
              "      <td>Some-college</td>\n",
              "      <td>10</td>\n",
              "      <td>Never-married</td>\n",
              "      <td>Adm-clerical</td>\n",
              "      <td>Own-child</td>\n",
              "      <td>White</td>\n",
              "      <td>Male</td>\n",
              "      <td>0</td>\n",
              "      <td>0</td>\n",
              "      <td>40</td>\n",
              "      <td>United-States</td>\n",
              "      <td>&lt;=50K</td>\n",
              "    </tr>\n",
              "    <tr>\n",
              "      <th>30157</th>\n",
              "      <td>40</td>\n",
              "      <td>Private</td>\n",
              "      <td>HS-grad</td>\n",
              "      <td>9</td>\n",
              "      <td>Married-civ-spouse</td>\n",
              "      <td>Machine-op-inspct</td>\n",
              "      <td>Husband</td>\n",
              "      <td>White</td>\n",
              "      <td>Male</td>\n",
              "      <td>0</td>\n",
              "      <td>0</td>\n",
              "      <td>40</td>\n",
              "      <td>United-States</td>\n",
              "      <td>&gt;50K</td>\n",
              "    </tr>\n",
              "    <tr>\n",
              "      <th>30159</th>\n",
              "      <td>22</td>\n",
              "      <td>Private</td>\n",
              "      <td>HS-grad</td>\n",
              "      <td>9</td>\n",
              "      <td>Never-married</td>\n",
              "      <td>Adm-clerical</td>\n",
              "      <td>Own-child</td>\n",
              "      <td>White</td>\n",
              "      <td>Male</td>\n",
              "      <td>0</td>\n",
              "      <td>0</td>\n",
              "      <td>20</td>\n",
              "      <td>United-States</td>\n",
              "      <td>&lt;=50K</td>\n",
              "    </tr>\n",
              "  </tbody>\n",
              "</table>\n",
              "<p>3258 rows × 14 columns</p>\n",
              "</div>"
            ],
            "text/plain": [
              "       age workclass      education  educationno        maritalstatus  \\\n",
              "326     33   Private      Bachelors           13   Married-civ-spouse   \n",
              "364     27   Private      Bachelors           13        Never-married   \n",
              "518     24   Private        HS-grad            9        Never-married   \n",
              "525     24   Private        HS-grad            9        Never-married   \n",
              "619     33   Private      Bachelors           13   Married-civ-spouse   \n",
              "...    ...       ...            ...          ...                  ...   \n",
              "30110   47   Private        HS-grad            9   Married-civ-spouse   \n",
              "30118   20   Private        HS-grad            9        Never-married   \n",
              "30132   22   Private   Some-college           10        Never-married   \n",
              "30157   40   Private        HS-grad            9   Married-civ-spouse   \n",
              "30159   22   Private        HS-grad            9        Never-married   \n",
              "\n",
              "               occupation    relationship    race      sex  capitalgain  \\\n",
              "326       Exec-managerial         Husband   White     Male            0   \n",
              "364          Craft-repair   Not-in-family   White     Male            0   \n",
              "518     Handlers-cleaners       Unmarried   Black   Female            0   \n",
              "525          Craft-repair       Own-child   White     Male            0   \n",
              "619       Exec-managerial         Husband   White     Male            0   \n",
              "...                   ...             ...     ...      ...          ...   \n",
              "30110        Craft-repair         Husband   White     Male            0   \n",
              "30118   Machine-op-inspct       Own-child   White     Male            0   \n",
              "30132        Adm-clerical       Own-child   White     Male            0   \n",
              "30157   Machine-op-inspct         Husband   White     Male            0   \n",
              "30159        Adm-clerical       Own-child   White     Male            0   \n",
              "\n",
              "       capitalloss  hoursperweek          native  Salary  \n",
              "326              0            40   United-States    >50K  \n",
              "364              0            50   United-States   <=50K  \n",
              "518              0            40   United-States   <=50K  \n",
              "525              0            40   United-States   <=50K  \n",
              "619              0            40   United-States    >50K  \n",
              "...            ...           ...             ...     ...  \n",
              "30110            0            40   United-States   <=50K  \n",
              "30118            0            40   United-States   <=50K  \n",
              "30132            0            40   United-States   <=50K  \n",
              "30157            0            40   United-States    >50K  \n",
              "30159            0            20   United-States   <=50K  \n",
              "\n",
              "[3258 rows x 14 columns]"
            ]
          },
          "execution_count": 85,
          "metadata": {},
          "output_type": "execute_result"
        }
      ],
      "source": [
        "train[train.duplicated()]"
      ]
    },
    {
      "cell_type": "code",
      "execution_count": null,
      "id": "e1b18aaa",
      "metadata": {
        "id": "e1b18aaa"
      },
      "outputs": [],
      "source": [
        "Train=train.drop_duplicates()"
      ]
    },
    {
      "cell_type": "code",
      "execution_count": null,
      "id": "20d0d043",
      "metadata": {
        "id": "20d0d043",
        "outputId": "16fb5dca-09d3-4a10-8d43-0e619af4fb07"
      },
      "outputs": [
        {
          "data": {
            "text/html": [
              "<div>\n",
              "<style scoped>\n",
              "    .dataframe tbody tr th:only-of-type {\n",
              "        vertical-align: middle;\n",
              "    }\n",
              "\n",
              "    .dataframe tbody tr th {\n",
              "        vertical-align: top;\n",
              "    }\n",
              "\n",
              "    .dataframe thead th {\n",
              "        text-align: right;\n",
              "    }\n",
              "</style>\n",
              "<table border=\"1\" class=\"dataframe\">\n",
              "  <thead>\n",
              "    <tr style=\"text-align: right;\">\n",
              "      <th></th>\n",
              "      <th>age</th>\n",
              "      <th>workclass</th>\n",
              "      <th>education</th>\n",
              "      <th>educationno</th>\n",
              "      <th>maritalstatus</th>\n",
              "      <th>occupation</th>\n",
              "      <th>relationship</th>\n",
              "      <th>race</th>\n",
              "      <th>sex</th>\n",
              "      <th>capitalgain</th>\n",
              "      <th>capitalloss</th>\n",
              "      <th>hoursperweek</th>\n",
              "      <th>native</th>\n",
              "      <th>Salary</th>\n",
              "    </tr>\n",
              "  </thead>\n",
              "  <tbody>\n",
              "    <tr>\n",
              "      <th>0</th>\n",
              "      <td>39</td>\n",
              "      <td>State-gov</td>\n",
              "      <td>Bachelors</td>\n",
              "      <td>13</td>\n",
              "      <td>Never-married</td>\n",
              "      <td>Adm-clerical</td>\n",
              "      <td>Not-in-family</td>\n",
              "      <td>White</td>\n",
              "      <td>Male</td>\n",
              "      <td>2174</td>\n",
              "      <td>0</td>\n",
              "      <td>40</td>\n",
              "      <td>United-States</td>\n",
              "      <td>&lt;=50K</td>\n",
              "    </tr>\n",
              "    <tr>\n",
              "      <th>1</th>\n",
              "      <td>50</td>\n",
              "      <td>Self-emp-not-inc</td>\n",
              "      <td>Bachelors</td>\n",
              "      <td>13</td>\n",
              "      <td>Married-civ-spouse</td>\n",
              "      <td>Exec-managerial</td>\n",
              "      <td>Husband</td>\n",
              "      <td>White</td>\n",
              "      <td>Male</td>\n",
              "      <td>0</td>\n",
              "      <td>0</td>\n",
              "      <td>13</td>\n",
              "      <td>United-States</td>\n",
              "      <td>&lt;=50K</td>\n",
              "    </tr>\n",
              "    <tr>\n",
              "      <th>2</th>\n",
              "      <td>38</td>\n",
              "      <td>Private</td>\n",
              "      <td>HS-grad</td>\n",
              "      <td>9</td>\n",
              "      <td>Divorced</td>\n",
              "      <td>Handlers-cleaners</td>\n",
              "      <td>Not-in-family</td>\n",
              "      <td>White</td>\n",
              "      <td>Male</td>\n",
              "      <td>0</td>\n",
              "      <td>0</td>\n",
              "      <td>40</td>\n",
              "      <td>United-States</td>\n",
              "      <td>&lt;=50K</td>\n",
              "    </tr>\n",
              "    <tr>\n",
              "      <th>3</th>\n",
              "      <td>53</td>\n",
              "      <td>Private</td>\n",
              "      <td>11th</td>\n",
              "      <td>7</td>\n",
              "      <td>Married-civ-spouse</td>\n",
              "      <td>Handlers-cleaners</td>\n",
              "      <td>Husband</td>\n",
              "      <td>Black</td>\n",
              "      <td>Male</td>\n",
              "      <td>0</td>\n",
              "      <td>0</td>\n",
              "      <td>40</td>\n",
              "      <td>United-States</td>\n",
              "      <td>&lt;=50K</td>\n",
              "    </tr>\n",
              "    <tr>\n",
              "      <th>4</th>\n",
              "      <td>28</td>\n",
              "      <td>Private</td>\n",
              "      <td>Bachelors</td>\n",
              "      <td>13</td>\n",
              "      <td>Married-civ-spouse</td>\n",
              "      <td>Prof-specialty</td>\n",
              "      <td>Wife</td>\n",
              "      <td>Black</td>\n",
              "      <td>Female</td>\n",
              "      <td>0</td>\n",
              "      <td>0</td>\n",
              "      <td>40</td>\n",
              "      <td>Cuba</td>\n",
              "      <td>&lt;=50K</td>\n",
              "    </tr>\n",
              "    <tr>\n",
              "      <th>...</th>\n",
              "      <td>...</td>\n",
              "      <td>...</td>\n",
              "      <td>...</td>\n",
              "      <td>...</td>\n",
              "      <td>...</td>\n",
              "      <td>...</td>\n",
              "      <td>...</td>\n",
              "      <td>...</td>\n",
              "      <td>...</td>\n",
              "      <td>...</td>\n",
              "      <td>...</td>\n",
              "      <td>...</td>\n",
              "      <td>...</td>\n",
              "      <td>...</td>\n",
              "    </tr>\n",
              "    <tr>\n",
              "      <th>30154</th>\n",
              "      <td>53</td>\n",
              "      <td>Private</td>\n",
              "      <td>Masters</td>\n",
              "      <td>14</td>\n",
              "      <td>Married-civ-spouse</td>\n",
              "      <td>Exec-managerial</td>\n",
              "      <td>Husband</td>\n",
              "      <td>White</td>\n",
              "      <td>Male</td>\n",
              "      <td>0</td>\n",
              "      <td>0</td>\n",
              "      <td>40</td>\n",
              "      <td>United-States</td>\n",
              "      <td>&gt;50K</td>\n",
              "    </tr>\n",
              "    <tr>\n",
              "      <th>30155</th>\n",
              "      <td>22</td>\n",
              "      <td>Private</td>\n",
              "      <td>Some-college</td>\n",
              "      <td>10</td>\n",
              "      <td>Never-married</td>\n",
              "      <td>Protective-serv</td>\n",
              "      <td>Not-in-family</td>\n",
              "      <td>White</td>\n",
              "      <td>Male</td>\n",
              "      <td>0</td>\n",
              "      <td>0</td>\n",
              "      <td>40</td>\n",
              "      <td>United-States</td>\n",
              "      <td>&lt;=50K</td>\n",
              "    </tr>\n",
              "    <tr>\n",
              "      <th>30156</th>\n",
              "      <td>27</td>\n",
              "      <td>Private</td>\n",
              "      <td>Assoc-acdm</td>\n",
              "      <td>12</td>\n",
              "      <td>Married-civ-spouse</td>\n",
              "      <td>Tech-support</td>\n",
              "      <td>Wife</td>\n",
              "      <td>White</td>\n",
              "      <td>Female</td>\n",
              "      <td>0</td>\n",
              "      <td>0</td>\n",
              "      <td>38</td>\n",
              "      <td>United-States</td>\n",
              "      <td>&lt;=50K</td>\n",
              "    </tr>\n",
              "    <tr>\n",
              "      <th>30158</th>\n",
              "      <td>58</td>\n",
              "      <td>Private</td>\n",
              "      <td>HS-grad</td>\n",
              "      <td>9</td>\n",
              "      <td>Widowed</td>\n",
              "      <td>Adm-clerical</td>\n",
              "      <td>Unmarried</td>\n",
              "      <td>White</td>\n",
              "      <td>Female</td>\n",
              "      <td>0</td>\n",
              "      <td>0</td>\n",
              "      <td>40</td>\n",
              "      <td>United-States</td>\n",
              "      <td>&lt;=50K</td>\n",
              "    </tr>\n",
              "    <tr>\n",
              "      <th>30160</th>\n",
              "      <td>52</td>\n",
              "      <td>Self-emp-inc</td>\n",
              "      <td>HS-grad</td>\n",
              "      <td>9</td>\n",
              "      <td>Married-civ-spouse</td>\n",
              "      <td>Exec-managerial</td>\n",
              "      <td>Wife</td>\n",
              "      <td>White</td>\n",
              "      <td>Female</td>\n",
              "      <td>15024</td>\n",
              "      <td>0</td>\n",
              "      <td>40</td>\n",
              "      <td>United-States</td>\n",
              "      <td>&gt;50K</td>\n",
              "    </tr>\n",
              "  </tbody>\n",
              "</table>\n",
              "<p>26903 rows × 14 columns</p>\n",
              "</div>"
            ],
            "text/plain": [
              "       age          workclass      education  educationno  \\\n",
              "0       39          State-gov      Bachelors           13   \n",
              "1       50   Self-emp-not-inc      Bachelors           13   \n",
              "2       38            Private        HS-grad            9   \n",
              "3       53            Private           11th            7   \n",
              "4       28            Private      Bachelors           13   \n",
              "...    ...                ...            ...          ...   \n",
              "30154   53            Private        Masters           14   \n",
              "30155   22            Private   Some-college           10   \n",
              "30156   27            Private     Assoc-acdm           12   \n",
              "30158   58            Private        HS-grad            9   \n",
              "30160   52       Self-emp-inc        HS-grad            9   \n",
              "\n",
              "             maritalstatus          occupation    relationship    race  \\\n",
              "0            Never-married        Adm-clerical   Not-in-family   White   \n",
              "1       Married-civ-spouse     Exec-managerial         Husband   White   \n",
              "2                 Divorced   Handlers-cleaners   Not-in-family   White   \n",
              "3       Married-civ-spouse   Handlers-cleaners         Husband   Black   \n",
              "4       Married-civ-spouse      Prof-specialty            Wife   Black   \n",
              "...                    ...                 ...             ...     ...   \n",
              "30154   Married-civ-spouse     Exec-managerial         Husband   White   \n",
              "30155        Never-married     Protective-serv   Not-in-family   White   \n",
              "30156   Married-civ-spouse        Tech-support            Wife   White   \n",
              "30158              Widowed        Adm-clerical       Unmarried   White   \n",
              "30160   Married-civ-spouse     Exec-managerial            Wife   White   \n",
              "\n",
              "           sex  capitalgain  capitalloss  hoursperweek          native  Salary  \n",
              "0         Male         2174            0            40   United-States   <=50K  \n",
              "1         Male            0            0            13   United-States   <=50K  \n",
              "2         Male            0            0            40   United-States   <=50K  \n",
              "3         Male            0            0            40   United-States   <=50K  \n",
              "4       Female            0            0            40            Cuba   <=50K  \n",
              "...        ...          ...          ...           ...             ...     ...  \n",
              "30154     Male            0            0            40   United-States    >50K  \n",
              "30155     Male            0            0            40   United-States   <=50K  \n",
              "30156   Female            0            0            38   United-States   <=50K  \n",
              "30158   Female            0            0            40   United-States   <=50K  \n",
              "30160   Female        15024            0            40   United-States    >50K  \n",
              "\n",
              "[26903 rows x 14 columns]"
            ]
          },
          "execution_count": 87,
          "metadata": {},
          "output_type": "execute_result"
        }
      ],
      "source": [
        "Train"
      ]
    },
    {
      "cell_type": "code",
      "execution_count": null,
      "id": "b5a1df77",
      "metadata": {
        "id": "b5a1df77",
        "outputId": "20e6c4c5-3b74-4102-cdfb-728c755a09cd"
      },
      "outputs": [
        {
          "data": {
            "text/plain": [
              "(26903, 14)"
            ]
          },
          "execution_count": 88,
          "metadata": {},
          "output_type": "execute_result"
        }
      ],
      "source": [
        "Train.shape"
      ]
    },
    {
      "cell_type": "code",
      "execution_count": null,
      "id": "e6337f03",
      "metadata": {
        "id": "e6337f03",
        "outputId": "66472f53-8ef8-4763-ee9e-90958877b8d6"
      },
      "outputs": [
        {
          "data": {
            "text/plain": [
              "(930, 14)"
            ]
          },
          "execution_count": 89,
          "metadata": {},
          "output_type": "execute_result"
        }
      ],
      "source": [
        "test[test.duplicated()].shape"
      ]
    },
    {
      "cell_type": "code",
      "execution_count": null,
      "id": "3396b01c",
      "metadata": {
        "id": "3396b01c",
        "outputId": "67e9f62e-79df-4e1c-b721-78af37582755"
      },
      "outputs": [
        {
          "data": {
            "text/html": [
              "<div>\n",
              "<style scoped>\n",
              "    .dataframe tbody tr th:only-of-type {\n",
              "        vertical-align: middle;\n",
              "    }\n",
              "\n",
              "    .dataframe tbody tr th {\n",
              "        vertical-align: top;\n",
              "    }\n",
              "\n",
              "    .dataframe thead th {\n",
              "        text-align: right;\n",
              "    }\n",
              "</style>\n",
              "<table border=\"1\" class=\"dataframe\">\n",
              "  <thead>\n",
              "    <tr style=\"text-align: right;\">\n",
              "      <th></th>\n",
              "      <th>age</th>\n",
              "      <th>workclass</th>\n",
              "      <th>education</th>\n",
              "      <th>educationno</th>\n",
              "      <th>maritalstatus</th>\n",
              "      <th>occupation</th>\n",
              "      <th>relationship</th>\n",
              "      <th>race</th>\n",
              "      <th>sex</th>\n",
              "      <th>capitalgain</th>\n",
              "      <th>capitalloss</th>\n",
              "      <th>hoursperweek</th>\n",
              "      <th>native</th>\n",
              "      <th>Salary</th>\n",
              "    </tr>\n",
              "  </thead>\n",
              "  <tbody>\n",
              "    <tr>\n",
              "      <th>551</th>\n",
              "      <td>59</td>\n",
              "      <td>Private</td>\n",
              "      <td>HS-grad</td>\n",
              "      <td>9</td>\n",
              "      <td>Divorced</td>\n",
              "      <td>Other-service</td>\n",
              "      <td>Not-in-family</td>\n",
              "      <td>White</td>\n",
              "      <td>Female</td>\n",
              "      <td>0</td>\n",
              "      <td>0</td>\n",
              "      <td>40</td>\n",
              "      <td>United-States</td>\n",
              "      <td>&lt;=50K</td>\n",
              "    </tr>\n",
              "    <tr>\n",
              "      <th>601</th>\n",
              "      <td>32</td>\n",
              "      <td>Private</td>\n",
              "      <td>HS-grad</td>\n",
              "      <td>9</td>\n",
              "      <td>Married-civ-spouse</td>\n",
              "      <td>Sales</td>\n",
              "      <td>Husband</td>\n",
              "      <td>White</td>\n",
              "      <td>Male</td>\n",
              "      <td>0</td>\n",
              "      <td>0</td>\n",
              "      <td>40</td>\n",
              "      <td>United-States</td>\n",
              "      <td>&lt;=50K</td>\n",
              "    </tr>\n",
              "    <tr>\n",
              "      <th>681</th>\n",
              "      <td>40</td>\n",
              "      <td>Private</td>\n",
              "      <td>HS-grad</td>\n",
              "      <td>9</td>\n",
              "      <td>Married-civ-spouse</td>\n",
              "      <td>Craft-repair</td>\n",
              "      <td>Husband</td>\n",
              "      <td>White</td>\n",
              "      <td>Male</td>\n",
              "      <td>0</td>\n",
              "      <td>0</td>\n",
              "      <td>40</td>\n",
              "      <td>United-States</td>\n",
              "      <td>&lt;=50K</td>\n",
              "    </tr>\n",
              "    <tr>\n",
              "      <th>799</th>\n",
              "      <td>24</td>\n",
              "      <td>Private</td>\n",
              "      <td>Bachelors</td>\n",
              "      <td>13</td>\n",
              "      <td>Never-married</td>\n",
              "      <td>Prof-specialty</td>\n",
              "      <td>Not-in-family</td>\n",
              "      <td>White</td>\n",
              "      <td>Male</td>\n",
              "      <td>0</td>\n",
              "      <td>0</td>\n",
              "      <td>35</td>\n",
              "      <td>United-States</td>\n",
              "      <td>&lt;=50K</td>\n",
              "    </tr>\n",
              "    <tr>\n",
              "      <th>1044</th>\n",
              "      <td>44</td>\n",
              "      <td>Private</td>\n",
              "      <td>Prof-school</td>\n",
              "      <td>15</td>\n",
              "      <td>Married-civ-spouse</td>\n",
              "      <td>Prof-specialty</td>\n",
              "      <td>Husband</td>\n",
              "      <td>White</td>\n",
              "      <td>Male</td>\n",
              "      <td>99999</td>\n",
              "      <td>0</td>\n",
              "      <td>60</td>\n",
              "      <td>United-States</td>\n",
              "      <td>&gt;50K</td>\n",
              "    </tr>\n",
              "    <tr>\n",
              "      <th>...</th>\n",
              "      <td>...</td>\n",
              "      <td>...</td>\n",
              "      <td>...</td>\n",
              "      <td>...</td>\n",
              "      <td>...</td>\n",
              "      <td>...</td>\n",
              "      <td>...</td>\n",
              "      <td>...</td>\n",
              "      <td>...</td>\n",
              "      <td>...</td>\n",
              "      <td>...</td>\n",
              "      <td>...</td>\n",
              "      <td>...</td>\n",
              "      <td>...</td>\n",
              "    </tr>\n",
              "    <tr>\n",
              "      <th>15043</th>\n",
              "      <td>51</td>\n",
              "      <td>Private</td>\n",
              "      <td>HS-grad</td>\n",
              "      <td>9</td>\n",
              "      <td>Married-civ-spouse</td>\n",
              "      <td>Craft-repair</td>\n",
              "      <td>Husband</td>\n",
              "      <td>White</td>\n",
              "      <td>Male</td>\n",
              "      <td>0</td>\n",
              "      <td>0</td>\n",
              "      <td>40</td>\n",
              "      <td>United-States</td>\n",
              "      <td>&lt;=50K</td>\n",
              "    </tr>\n",
              "    <tr>\n",
              "      <th>15044</th>\n",
              "      <td>22</td>\n",
              "      <td>Private</td>\n",
              "      <td>Some-college</td>\n",
              "      <td>10</td>\n",
              "      <td>Never-married</td>\n",
              "      <td>Craft-repair</td>\n",
              "      <td>Own-child</td>\n",
              "      <td>White</td>\n",
              "      <td>Male</td>\n",
              "      <td>0</td>\n",
              "      <td>0</td>\n",
              "      <td>40</td>\n",
              "      <td>United-States</td>\n",
              "      <td>&lt;=50K</td>\n",
              "    </tr>\n",
              "    <tr>\n",
              "      <th>15049</th>\n",
              "      <td>32</td>\n",
              "      <td>Private</td>\n",
              "      <td>HS-grad</td>\n",
              "      <td>9</td>\n",
              "      <td>Married-civ-spouse</td>\n",
              "      <td>Handlers-cleaners</td>\n",
              "      <td>Husband</td>\n",
              "      <td>White</td>\n",
              "      <td>Male</td>\n",
              "      <td>0</td>\n",
              "      <td>0</td>\n",
              "      <td>40</td>\n",
              "      <td>United-States</td>\n",
              "      <td>&lt;=50K</td>\n",
              "    </tr>\n",
              "    <tr>\n",
              "      <th>15052</th>\n",
              "      <td>31</td>\n",
              "      <td>Private</td>\n",
              "      <td>HS-grad</td>\n",
              "      <td>9</td>\n",
              "      <td>Married-civ-spouse</td>\n",
              "      <td>Craft-repair</td>\n",
              "      <td>Husband</td>\n",
              "      <td>White</td>\n",
              "      <td>Male</td>\n",
              "      <td>0</td>\n",
              "      <td>0</td>\n",
              "      <td>40</td>\n",
              "      <td>United-States</td>\n",
              "      <td>&lt;=50K</td>\n",
              "    </tr>\n",
              "    <tr>\n",
              "      <th>15053</th>\n",
              "      <td>25</td>\n",
              "      <td>Private</td>\n",
              "      <td>HS-grad</td>\n",
              "      <td>9</td>\n",
              "      <td>Never-married</td>\n",
              "      <td>Other-service</td>\n",
              "      <td>Own-child</td>\n",
              "      <td>White</td>\n",
              "      <td>Female</td>\n",
              "      <td>0</td>\n",
              "      <td>0</td>\n",
              "      <td>40</td>\n",
              "      <td>United-States</td>\n",
              "      <td>&lt;=50K</td>\n",
              "    </tr>\n",
              "  </tbody>\n",
              "</table>\n",
              "<p>930 rows × 14 columns</p>\n",
              "</div>"
            ],
            "text/plain": [
              "       age workclass      education  educationno        maritalstatus  \\\n",
              "551     59   Private        HS-grad            9             Divorced   \n",
              "601     32   Private        HS-grad            9   Married-civ-spouse   \n",
              "681     40   Private        HS-grad            9   Married-civ-spouse   \n",
              "799     24   Private      Bachelors           13        Never-married   \n",
              "1044    44   Private    Prof-school           15   Married-civ-spouse   \n",
              "...    ...       ...            ...          ...                  ...   \n",
              "15043   51   Private        HS-grad            9   Married-civ-spouse   \n",
              "15044   22   Private   Some-college           10        Never-married   \n",
              "15049   32   Private        HS-grad            9   Married-civ-spouse   \n",
              "15052   31   Private        HS-grad            9   Married-civ-spouse   \n",
              "15053   25   Private        HS-grad            9        Never-married   \n",
              "\n",
              "               occupation    relationship    race      sex  capitalgain  \\\n",
              "551         Other-service   Not-in-family   White   Female            0   \n",
              "601                 Sales         Husband   White     Male            0   \n",
              "681          Craft-repair         Husband   White     Male            0   \n",
              "799        Prof-specialty   Not-in-family   White     Male            0   \n",
              "1044       Prof-specialty         Husband   White     Male        99999   \n",
              "...                   ...             ...     ...      ...          ...   \n",
              "15043        Craft-repair         Husband   White     Male            0   \n",
              "15044        Craft-repair       Own-child   White     Male            0   \n",
              "15049   Handlers-cleaners         Husband   White     Male            0   \n",
              "15052        Craft-repair         Husband   White     Male            0   \n",
              "15053       Other-service       Own-child   White   Female            0   \n",
              "\n",
              "       capitalloss  hoursperweek          native  Salary  \n",
              "551              0            40   United-States   <=50K  \n",
              "601              0            40   United-States   <=50K  \n",
              "681              0            40   United-States   <=50K  \n",
              "799              0            35   United-States   <=50K  \n",
              "1044             0            60   United-States    >50K  \n",
              "...            ...           ...             ...     ...  \n",
              "15043            0            40   United-States   <=50K  \n",
              "15044            0            40   United-States   <=50K  \n",
              "15049            0            40   United-States   <=50K  \n",
              "15052            0            40   United-States   <=50K  \n",
              "15053            0            40   United-States   <=50K  \n",
              "\n",
              "[930 rows x 14 columns]"
            ]
          },
          "execution_count": 90,
          "metadata": {},
          "output_type": "execute_result"
        }
      ],
      "source": [
        "test[test.duplicated()]"
      ]
    },
    {
      "cell_type": "code",
      "execution_count": null,
      "id": "099ab00c",
      "metadata": {
        "id": "099ab00c"
      },
      "outputs": [],
      "source": [
        "Test=test.drop_duplicates()"
      ]
    },
    {
      "cell_type": "code",
      "execution_count": null,
      "id": "9a1a875a",
      "metadata": {
        "id": "9a1a875a",
        "outputId": "cd5d9c57-2f36-4728-a770-51582276d737"
      },
      "outputs": [
        {
          "data": {
            "text/html": [
              "<div>\n",
              "<style scoped>\n",
              "    .dataframe tbody tr th:only-of-type {\n",
              "        vertical-align: middle;\n",
              "    }\n",
              "\n",
              "    .dataframe tbody tr th {\n",
              "        vertical-align: top;\n",
              "    }\n",
              "\n",
              "    .dataframe thead th {\n",
              "        text-align: right;\n",
              "    }\n",
              "</style>\n",
              "<table border=\"1\" class=\"dataframe\">\n",
              "  <thead>\n",
              "    <tr style=\"text-align: right;\">\n",
              "      <th></th>\n",
              "      <th>age</th>\n",
              "      <th>workclass</th>\n",
              "      <th>education</th>\n",
              "      <th>educationno</th>\n",
              "      <th>maritalstatus</th>\n",
              "      <th>occupation</th>\n",
              "      <th>relationship</th>\n",
              "      <th>race</th>\n",
              "      <th>sex</th>\n",
              "      <th>capitalgain</th>\n",
              "      <th>capitalloss</th>\n",
              "      <th>hoursperweek</th>\n",
              "      <th>native</th>\n",
              "      <th>Salary</th>\n",
              "    </tr>\n",
              "  </thead>\n",
              "  <tbody>\n",
              "    <tr>\n",
              "      <th>0</th>\n",
              "      <td>25</td>\n",
              "      <td>Private</td>\n",
              "      <td>11th</td>\n",
              "      <td>7</td>\n",
              "      <td>Never-married</td>\n",
              "      <td>Machine-op-inspct</td>\n",
              "      <td>Own-child</td>\n",
              "      <td>Black</td>\n",
              "      <td>Male</td>\n",
              "      <td>0</td>\n",
              "      <td>0</td>\n",
              "      <td>40</td>\n",
              "      <td>United-States</td>\n",
              "      <td>&lt;=50K</td>\n",
              "    </tr>\n",
              "    <tr>\n",
              "      <th>1</th>\n",
              "      <td>38</td>\n",
              "      <td>Private</td>\n",
              "      <td>HS-grad</td>\n",
              "      <td>9</td>\n",
              "      <td>Married-civ-spouse</td>\n",
              "      <td>Farming-fishing</td>\n",
              "      <td>Husband</td>\n",
              "      <td>White</td>\n",
              "      <td>Male</td>\n",
              "      <td>0</td>\n",
              "      <td>0</td>\n",
              "      <td>50</td>\n",
              "      <td>United-States</td>\n",
              "      <td>&lt;=50K</td>\n",
              "    </tr>\n",
              "    <tr>\n",
              "      <th>2</th>\n",
              "      <td>28</td>\n",
              "      <td>Local-gov</td>\n",
              "      <td>Assoc-acdm</td>\n",
              "      <td>12</td>\n",
              "      <td>Married-civ-spouse</td>\n",
              "      <td>Protective-serv</td>\n",
              "      <td>Husband</td>\n",
              "      <td>White</td>\n",
              "      <td>Male</td>\n",
              "      <td>0</td>\n",
              "      <td>0</td>\n",
              "      <td>40</td>\n",
              "      <td>United-States</td>\n",
              "      <td>&gt;50K</td>\n",
              "    </tr>\n",
              "    <tr>\n",
              "      <th>3</th>\n",
              "      <td>44</td>\n",
              "      <td>Private</td>\n",
              "      <td>Some-college</td>\n",
              "      <td>10</td>\n",
              "      <td>Married-civ-spouse</td>\n",
              "      <td>Machine-op-inspct</td>\n",
              "      <td>Husband</td>\n",
              "      <td>Black</td>\n",
              "      <td>Male</td>\n",
              "      <td>7688</td>\n",
              "      <td>0</td>\n",
              "      <td>40</td>\n",
              "      <td>United-States</td>\n",
              "      <td>&gt;50K</td>\n",
              "    </tr>\n",
              "    <tr>\n",
              "      <th>4</th>\n",
              "      <td>34</td>\n",
              "      <td>Private</td>\n",
              "      <td>10th</td>\n",
              "      <td>6</td>\n",
              "      <td>Never-married</td>\n",
              "      <td>Other-service</td>\n",
              "      <td>Not-in-family</td>\n",
              "      <td>White</td>\n",
              "      <td>Male</td>\n",
              "      <td>0</td>\n",
              "      <td>0</td>\n",
              "      <td>30</td>\n",
              "      <td>United-States</td>\n",
              "      <td>&lt;=50K</td>\n",
              "    </tr>\n",
              "    <tr>\n",
              "      <th>...</th>\n",
              "      <td>...</td>\n",
              "      <td>...</td>\n",
              "      <td>...</td>\n",
              "      <td>...</td>\n",
              "      <td>...</td>\n",
              "      <td>...</td>\n",
              "      <td>...</td>\n",
              "      <td>...</td>\n",
              "      <td>...</td>\n",
              "      <td>...</td>\n",
              "      <td>...</td>\n",
              "      <td>...</td>\n",
              "      <td>...</td>\n",
              "      <td>...</td>\n",
              "    </tr>\n",
              "    <tr>\n",
              "      <th>15055</th>\n",
              "      <td>33</td>\n",
              "      <td>Private</td>\n",
              "      <td>Bachelors</td>\n",
              "      <td>13</td>\n",
              "      <td>Never-married</td>\n",
              "      <td>Prof-specialty</td>\n",
              "      <td>Own-child</td>\n",
              "      <td>White</td>\n",
              "      <td>Male</td>\n",
              "      <td>0</td>\n",
              "      <td>0</td>\n",
              "      <td>40</td>\n",
              "      <td>United-States</td>\n",
              "      <td>&lt;=50K</td>\n",
              "    </tr>\n",
              "    <tr>\n",
              "      <th>15056</th>\n",
              "      <td>39</td>\n",
              "      <td>Private</td>\n",
              "      <td>Bachelors</td>\n",
              "      <td>13</td>\n",
              "      <td>Divorced</td>\n",
              "      <td>Prof-specialty</td>\n",
              "      <td>Not-in-family</td>\n",
              "      <td>White</td>\n",
              "      <td>Female</td>\n",
              "      <td>0</td>\n",
              "      <td>0</td>\n",
              "      <td>36</td>\n",
              "      <td>United-States</td>\n",
              "      <td>&lt;=50K</td>\n",
              "    </tr>\n",
              "    <tr>\n",
              "      <th>15057</th>\n",
              "      <td>38</td>\n",
              "      <td>Private</td>\n",
              "      <td>Bachelors</td>\n",
              "      <td>13</td>\n",
              "      <td>Married-civ-spouse</td>\n",
              "      <td>Prof-specialty</td>\n",
              "      <td>Husband</td>\n",
              "      <td>White</td>\n",
              "      <td>Male</td>\n",
              "      <td>0</td>\n",
              "      <td>0</td>\n",
              "      <td>50</td>\n",
              "      <td>United-States</td>\n",
              "      <td>&lt;=50K</td>\n",
              "    </tr>\n",
              "    <tr>\n",
              "      <th>15058</th>\n",
              "      <td>44</td>\n",
              "      <td>Private</td>\n",
              "      <td>Bachelors</td>\n",
              "      <td>13</td>\n",
              "      <td>Divorced</td>\n",
              "      <td>Adm-clerical</td>\n",
              "      <td>Own-child</td>\n",
              "      <td>Asian-Pac-Islander</td>\n",
              "      <td>Male</td>\n",
              "      <td>5455</td>\n",
              "      <td>0</td>\n",
              "      <td>40</td>\n",
              "      <td>United-States</td>\n",
              "      <td>&lt;=50K</td>\n",
              "    </tr>\n",
              "    <tr>\n",
              "      <th>15059</th>\n",
              "      <td>35</td>\n",
              "      <td>Self-emp-inc</td>\n",
              "      <td>Bachelors</td>\n",
              "      <td>13</td>\n",
              "      <td>Married-civ-spouse</td>\n",
              "      <td>Exec-managerial</td>\n",
              "      <td>Husband</td>\n",
              "      <td>White</td>\n",
              "      <td>Male</td>\n",
              "      <td>0</td>\n",
              "      <td>0</td>\n",
              "      <td>60</td>\n",
              "      <td>United-States</td>\n",
              "      <td>&gt;50K</td>\n",
              "    </tr>\n",
              "  </tbody>\n",
              "</table>\n",
              "<p>14130 rows × 14 columns</p>\n",
              "</div>"
            ],
            "text/plain": [
              "       age      workclass      education  educationno        maritalstatus  \\\n",
              "0       25        Private           11th            7        Never-married   \n",
              "1       38        Private        HS-grad            9   Married-civ-spouse   \n",
              "2       28      Local-gov     Assoc-acdm           12   Married-civ-spouse   \n",
              "3       44        Private   Some-college           10   Married-civ-spouse   \n",
              "4       34        Private           10th            6        Never-married   \n",
              "...    ...            ...            ...          ...                  ...   \n",
              "15055   33        Private      Bachelors           13        Never-married   \n",
              "15056   39        Private      Bachelors           13             Divorced   \n",
              "15057   38        Private      Bachelors           13   Married-civ-spouse   \n",
              "15058   44        Private      Bachelors           13             Divorced   \n",
              "15059   35   Self-emp-inc      Bachelors           13   Married-civ-spouse   \n",
              "\n",
              "               occupation    relationship                 race      sex  \\\n",
              "0       Machine-op-inspct       Own-child                Black     Male   \n",
              "1         Farming-fishing         Husband                White     Male   \n",
              "2         Protective-serv         Husband                White     Male   \n",
              "3       Machine-op-inspct         Husband                Black     Male   \n",
              "4           Other-service   Not-in-family                White     Male   \n",
              "...                   ...             ...                  ...      ...   \n",
              "15055      Prof-specialty       Own-child                White     Male   \n",
              "15056      Prof-specialty   Not-in-family                White   Female   \n",
              "15057      Prof-specialty         Husband                White     Male   \n",
              "15058        Adm-clerical       Own-child   Asian-Pac-Islander     Male   \n",
              "15059     Exec-managerial         Husband                White     Male   \n",
              "\n",
              "       capitalgain  capitalloss  hoursperweek          native  Salary  \n",
              "0                0            0            40   United-States   <=50K  \n",
              "1                0            0            50   United-States   <=50K  \n",
              "2                0            0            40   United-States    >50K  \n",
              "3             7688            0            40   United-States    >50K  \n",
              "4                0            0            30   United-States   <=50K  \n",
              "...            ...          ...           ...             ...     ...  \n",
              "15055            0            0            40   United-States   <=50K  \n",
              "15056            0            0            36   United-States   <=50K  \n",
              "15057            0            0            50   United-States   <=50K  \n",
              "15058         5455            0            40   United-States   <=50K  \n",
              "15059            0            0            60   United-States    >50K  \n",
              "\n",
              "[14130 rows x 14 columns]"
            ]
          },
          "execution_count": 92,
          "metadata": {},
          "output_type": "execute_result"
        }
      ],
      "source": [
        "Test"
      ]
    },
    {
      "cell_type": "code",
      "execution_count": null,
      "id": "ff38a031",
      "metadata": {
        "id": "ff38a031",
        "outputId": "2c0c4d7b-f7d0-4c65-f2a3-d50625443823"
      },
      "outputs": [
        {
          "data": {
            "text/plain": [
              "(14130, 14)"
            ]
          },
          "execution_count": 93,
          "metadata": {},
          "output_type": "execute_result"
        }
      ],
      "source": [
        "Test.shape"
      ]
    },
    {
      "cell_type": "code",
      "execution_count": null,
      "id": "20bbf607",
      "metadata": {
        "id": "20bbf607",
        "outputId": "18a0eb39-f4f7-4bea-ac20-95b0f8404926"
      },
      "outputs": [
        {
          "data": {
            "text/plain": [
              " <=50K    20023\n",
              " >50K      6880\n",
              "Name: Salary, dtype: int64"
            ]
          },
          "execution_count": 94,
          "metadata": {},
          "output_type": "execute_result"
        }
      ],
      "source": [
        "Train['Salary'].value_counts()"
      ]
    },
    {
      "cell_type": "code",
      "execution_count": null,
      "id": "ed4ddce6",
      "metadata": {
        "id": "ed4ddce6",
        "outputId": "a45fe2a8-f917-443f-9a53-a8af02d89d94"
      },
      "outputs": [
        {
          "data": {
            "text/plain": [
              " <=50K    10620\n",
              " >50K      3510\n",
              "Name: Salary, dtype: int64"
            ]
          },
          "execution_count": 95,
          "metadata": {},
          "output_type": "execute_result"
        }
      ],
      "source": [
        "Test['Salary'].value_counts()"
      ]
    },
    {
      "cell_type": "markdown",
      "id": "4dc93169",
      "metadata": {
        "id": "4dc93169"
      },
      "source": [
        "# Data Visualization Plots"
      ]
    },
    {
      "cell_type": "code",
      "execution_count": null,
      "id": "0537bfec",
      "metadata": {
        "id": "0537bfec",
        "outputId": "107aff3d-2d1d-40c0-a940-31b1c9dda713"
      },
      "outputs": [
        {
          "data": {
            "image/png": "[encoded data removed]",
            "text/plain": [
              "<Figure size 2000x1000 with 6 Axes>"
            ]
          },
          "metadata": {},
          "output_type": "display_data"
        }
      ],
      "source": [
        "Train.hist(figsize=(20,10))\n",
        "plt.show()"
      ]
    },
    {
      "cell_type": "code",
      "execution_count": null,
      "id": "356145de",
      "metadata": {
        "id": "356145de",
        "outputId": "d6e8a4f4-7ad7-4ad6-ede6-77ea51204cb8"
      },
      "outputs": [
        {
          "data": {
            "image/png": "[encoded data removed]",
            "text/plain": [
              "<Figure size 2000x1000 with 1 Axes>"
            ]
          },
          "metadata": {},
          "output_type": "display_data"
        }
      ],
      "source": [
        "pd.crosstab(Train.Salary,Train.age).plot(kind=\"bar\",figsize=(20,10))\n",
        "plt.show()"
      ]
    },
    {
      "cell_type": "code",
      "execution_count": null,
      "id": "b9e6c4cc",
      "metadata": {
        "id": "b9e6c4cc",
        "outputId": "b7d16522-7fa6-4f2b-b82c-99d0f47f728e"
      },
      "outputs": [
        {
          "data": {
            "text/html": [
              "<div>\n",
              "<style scoped>\n",
              "    .dataframe tbody tr th:only-of-type {\n",
              "        vertical-align: middle;\n",
              "    }\n",
              "\n",
              "    .dataframe tbody tr th {\n",
              "        vertical-align: top;\n",
              "    }\n",
              "\n",
              "    .dataframe thead th {\n",
              "        text-align: right;\n",
              "    }\n",
              "</style>\n",
              "<table border=\"1\" class=\"dataframe\">\n",
              "  <thead>\n",
              "    <tr style=\"text-align: right;\">\n",
              "      <th>Salary</th>\n",
              "      <th>&lt;=50K</th>\n",
              "      <th>&gt;50K</th>\n",
              "    </tr>\n",
              "    <tr>\n",
              "      <th>occupation</th>\n",
              "      <th></th>\n",
              "      <th></th>\n",
              "    </tr>\n",
              "  </thead>\n",
              "  <tbody>\n",
              "    <tr>\n",
              "      <th>Adm-clerical</th>\n",
              "      <td>2816</td>\n",
              "      <td>475</td>\n",
              "    </tr>\n",
              "    <tr>\n",
              "      <th>Armed-Forces</th>\n",
              "      <td>8</td>\n",
              "      <td>1</td>\n",
              "    </tr>\n",
              "    <tr>\n",
              "      <th>Craft-repair</th>\n",
              "      <td>2472</td>\n",
              "      <td>757</td>\n",
              "    </tr>\n",
              "    <tr>\n",
              "      <th>Exec-managerial</th>\n",
              "      <td>1903</td>\n",
              "      <td>1743</td>\n",
              "    </tr>\n",
              "    <tr>\n",
              "      <th>Farming-fishing</th>\n",
              "      <td>843</td>\n",
              "      <td>114</td>\n",
              "    </tr>\n",
              "    <tr>\n",
              "      <th>Handlers-cleaners</th>\n",
              "      <td>1081</td>\n",
              "      <td>78</td>\n",
              "    </tr>\n",
              "    <tr>\n",
              "      <th>Machine-op-inspct</th>\n",
              "      <td>1442</td>\n",
              "      <td>223</td>\n",
              "    </tr>\n",
              "    <tr>\n",
              "      <th>Other-service</th>\n",
              "      <td>2782</td>\n",
              "      <td>132</td>\n",
              "    </tr>\n",
              "    <tr>\n",
              "      <th>Priv-house-serv</th>\n",
              "      <td>140</td>\n",
              "      <td>1</td>\n",
              "    </tr>\n",
              "    <tr>\n",
              "      <th>Prof-specialty</th>\n",
              "      <td>2085</td>\n",
              "      <td>1698</td>\n",
              "    </tr>\n",
              "    <tr>\n",
              "      <th>Protective-serv</th>\n",
              "      <td>424</td>\n",
              "      <td>202</td>\n",
              "    </tr>\n",
              "    <tr>\n",
              "      <th>Sales</th>\n",
              "      <td>2315</td>\n",
              "      <td>890</td>\n",
              "    </tr>\n",
              "    <tr>\n",
              "      <th>Tech-support</th>\n",
              "      <td>594</td>\n",
              "      <td>264</td>\n",
              "    </tr>\n",
              "    <tr>\n",
              "      <th>Transport-moving</th>\n",
              "      <td>1118</td>\n",
              "      <td>302</td>\n",
              "    </tr>\n",
              "  </tbody>\n",
              "</table>\n",
              "</div>"
            ],
            "text/plain": [
              "Salary               <=50K   >50K\n",
              "occupation                       \n",
              " Adm-clerical         2816    475\n",
              " Armed-Forces            8      1\n",
              " Craft-repair         2472    757\n",
              " Exec-managerial      1903   1743\n",
              " Farming-fishing       843    114\n",
              " Handlers-cleaners    1081     78\n",
              " Machine-op-inspct    1442    223\n",
              " Other-service        2782    132\n",
              " Priv-house-serv       140      1\n",
              " Prof-specialty       2085   1698\n",
              " Protective-serv       424    202\n",
              " Sales                2315    890\n",
              " Tech-support          594    264\n",
              " Transport-moving     1118    302"
            ]
          },
          "execution_count": 99,
          "metadata": {},
          "output_type": "execute_result"
        }
      ],
      "source": [
        "pd.crosstab(Train['occupation'],Train['Salary'])"
      ]
    },
    {
      "cell_type": "code",
      "execution_count": null,
      "id": "fea7fe84",
      "metadata": {
        "id": "fea7fe84",
        "outputId": "8cb86a9a-4cd1-48d0-8c42-d7478bbf7eb1"
      },
      "outputs": [
        {
          "data": {
            "text/html": [
              "<div>\n",
              "<style scoped>\n",
              "    .dataframe tbody tr th:only-of-type {\n",
              "        vertical-align: middle;\n",
              "    }\n",
              "\n",
              "    .dataframe tbody tr th {\n",
              "        vertical-align: top;\n",
              "    }\n",
              "\n",
              "    .dataframe thead th {\n",
              "        text-align: right;\n",
              "    }\n",
              "</style>\n",
              "<table border=\"1\" class=\"dataframe\">\n",
              "  <thead>\n",
              "    <tr style=\"text-align: right;\">\n",
              "      <th>Salary</th>\n",
              "      <th>&lt;=50K</th>\n",
              "      <th>&gt;50K</th>\n",
              "    </tr>\n",
              "    <tr>\n",
              "      <th>workclass</th>\n",
              "      <th></th>\n",
              "      <th></th>\n",
              "    </tr>\n",
              "  </thead>\n",
              "  <tbody>\n",
              "    <tr>\n",
              "      <th>Federal-gov</th>\n",
              "      <td>573</td>\n",
              "      <td>356</td>\n",
              "    </tr>\n",
              "    <tr>\n",
              "      <th>Local-gov</th>\n",
              "      <td>1421</td>\n",
              "      <td>593</td>\n",
              "    </tr>\n",
              "    <tr>\n",
              "      <th>Private</th>\n",
              "      <td>14902</td>\n",
              "      <td>4311</td>\n",
              "    </tr>\n",
              "    <tr>\n",
              "      <th>Self-emp-inc</th>\n",
              "      <td>466</td>\n",
              "      <td>583</td>\n",
              "    </tr>\n",
              "    <tr>\n",
              "      <th>Self-emp-not-inc</th>\n",
              "      <td>1733</td>\n",
              "      <td>698</td>\n",
              "    </tr>\n",
              "    <tr>\n",
              "      <th>State-gov</th>\n",
              "      <td>914</td>\n",
              "      <td>339</td>\n",
              "    </tr>\n",
              "    <tr>\n",
              "      <th>Without-pay</th>\n",
              "      <td>14</td>\n",
              "      <td>0</td>\n",
              "    </tr>\n",
              "  </tbody>\n",
              "</table>\n",
              "</div>"
            ],
            "text/plain": [
              "Salary              <=50K   >50K\n",
              "workclass                       \n",
              " Federal-gov          573    356\n",
              " Local-gov           1421    593\n",
              " Private            14902   4311\n",
              " Self-emp-inc         466    583\n",
              " Self-emp-not-inc    1733    698\n",
              " State-gov            914    339\n",
              " Without-pay           14      0"
            ]
          },
          "execution_count": 100,
          "metadata": {},
          "output_type": "execute_result"
        }
      ],
      "source": [
        "pd.crosstab(Train['workclass'],Train['Salary'])"
      ]
    },
    {
      "cell_type": "code",
      "execution_count": null,
      "id": "df10100d",
      "metadata": {
        "id": "df10100d",
        "outputId": "d4e39960-e71b-42a5-f2c5-7a8b303e9077"
      },
      "outputs": [
        {
          "data": {
            "text/html": [
              "<div>\n",
              "<style scoped>\n",
              "    .dataframe tbody tr th:only-of-type {\n",
              "        vertical-align: middle;\n",
              "    }\n",
              "\n",
              "    .dataframe tbody tr th {\n",
              "        vertical-align: top;\n",
              "    }\n",
              "\n",
              "    .dataframe thead th {\n",
              "        text-align: right;\n",
              "    }\n",
              "</style>\n",
              "<table border=\"1\" class=\"dataframe\">\n",
              "  <thead>\n",
              "    <tr style=\"text-align: right;\">\n",
              "      <th>occupation</th>\n",
              "      <th>Adm-clerical</th>\n",
              "      <th>Armed-Forces</th>\n",
              "      <th>Craft-repair</th>\n",
              "      <th>Exec-managerial</th>\n",
              "      <th>Farming-fishing</th>\n",
              "      <th>Handlers-cleaners</th>\n",
              "      <th>Machine-op-inspct</th>\n",
              "      <th>Other-service</th>\n",
              "      <th>Priv-house-serv</th>\n",
              "      <th>Prof-specialty</th>\n",
              "      <th>Protective-serv</th>\n",
              "      <th>Sales</th>\n",
              "      <th>Tech-support</th>\n",
              "      <th>Transport-moving</th>\n",
              "    </tr>\n",
              "    <tr>\n",
              "      <th>workclass</th>\n",
              "      <th></th>\n",
              "      <th></th>\n",
              "      <th></th>\n",
              "      <th></th>\n",
              "      <th></th>\n",
              "      <th></th>\n",
              "      <th></th>\n",
              "      <th></th>\n",
              "      <th></th>\n",
              "      <th></th>\n",
              "      <th></th>\n",
              "      <th></th>\n",
              "      <th></th>\n",
              "      <th></th>\n",
              "    </tr>\n",
              "  </thead>\n",
              "  <tbody>\n",
              "    <tr>\n",
              "      <th>Federal-gov</th>\n",
              "      <td>309</td>\n",
              "      <td>9</td>\n",
              "      <td>62</td>\n",
              "      <td>175</td>\n",
              "      <td>8</td>\n",
              "      <td>22</td>\n",
              "      <td>14</td>\n",
              "      <td>34</td>\n",
              "      <td>0</td>\n",
              "      <td>165</td>\n",
              "      <td>27</td>\n",
              "      <td>14</td>\n",
              "      <td>66</td>\n",
              "      <td>24</td>\n",
              "    </tr>\n",
              "    <tr>\n",
              "      <th>Local-gov</th>\n",
              "      <td>277</td>\n",
              "      <td>0</td>\n",
              "      <td>139</td>\n",
              "      <td>211</td>\n",
              "      <td>28</td>\n",
              "      <td>46</td>\n",
              "      <td>11</td>\n",
              "      <td>187</td>\n",
              "      <td>0</td>\n",
              "      <td>667</td>\n",
              "      <td>291</td>\n",
              "      <td>7</td>\n",
              "      <td>38</td>\n",
              "      <td>112</td>\n",
              "    </tr>\n",
              "    <tr>\n",
              "      <th>Private</th>\n",
              "      <td>2378</td>\n",
              "      <td>0</td>\n",
              "      <td>2391</td>\n",
              "      <td>2333</td>\n",
              "      <td>430</td>\n",
              "      <td>1064</td>\n",
              "      <td>1581</td>\n",
              "      <td>2370</td>\n",
              "      <td>141</td>\n",
              "      <td>2042</td>\n",
              "      <td>185</td>\n",
              "      <td>2530</td>\n",
              "      <td>669</td>\n",
              "      <td>1099</td>\n",
              "    </tr>\n",
              "    <tr>\n",
              "      <th>Self-emp-inc</th>\n",
              "      <td>28</td>\n",
              "      <td>0</td>\n",
              "      <td>97</td>\n",
              "      <td>369</td>\n",
              "      <td>51</td>\n",
              "      <td>2</td>\n",
              "      <td>10</td>\n",
              "      <td>27</td>\n",
              "      <td>0</td>\n",
              "      <td>156</td>\n",
              "      <td>5</td>\n",
              "      <td>275</td>\n",
              "      <td>3</td>\n",
              "      <td>26</td>\n",
              "    </tr>\n",
              "    <tr>\n",
              "      <th>Self-emp-not-inc</th>\n",
              "      <td>49</td>\n",
              "      <td>0</td>\n",
              "      <td>487</td>\n",
              "      <td>375</td>\n",
              "      <td>419</td>\n",
              "      <td>15</td>\n",
              "      <td>35</td>\n",
              "      <td>173</td>\n",
              "      <td>0</td>\n",
              "      <td>360</td>\n",
              "      <td>6</td>\n",
              "      <td>368</td>\n",
              "      <td>26</td>\n",
              "      <td>118</td>\n",
              "    </tr>\n",
              "    <tr>\n",
              "      <th>State-gov</th>\n",
              "      <td>247</td>\n",
              "      <td>0</td>\n",
              "      <td>52</td>\n",
              "      <td>183</td>\n",
              "      <td>15</td>\n",
              "      <td>9</td>\n",
              "      <td>13</td>\n",
              "      <td>122</td>\n",
              "      <td>0</td>\n",
              "      <td>393</td>\n",
              "      <td>112</td>\n",
              "      <td>11</td>\n",
              "      <td>56</td>\n",
              "      <td>40</td>\n",
              "    </tr>\n",
              "    <tr>\n",
              "      <th>Without-pay</th>\n",
              "      <td>3</td>\n",
              "      <td>0</td>\n",
              "      <td>1</td>\n",
              "      <td>0</td>\n",
              "      <td>6</td>\n",
              "      <td>1</td>\n",
              "      <td>1</td>\n",
              "      <td>1</td>\n",
              "      <td>0</td>\n",
              "      <td>0</td>\n",
              "      <td>0</td>\n",
              "      <td>0</td>\n",
              "      <td>0</td>\n",
              "      <td>1</td>\n",
              "    </tr>\n",
              "  </tbody>\n",
              "</table>\n",
              "</div>"
            ],
            "text/plain": [
              "occupation          Adm-clerical   Armed-Forces   Craft-repair  \\\n",
              "workclass                                                        \n",
              " Federal-gov                 309              9             62   \n",
              " Local-gov                   277              0            139   \n",
              " Private                    2378              0           2391   \n",
              " Self-emp-inc                 28              0             97   \n",
              " Self-emp-not-inc             49              0            487   \n",
              " State-gov                   247              0             52   \n",
              " Without-pay                   3              0              1   \n",
              "\n",
              "occupation          Exec-managerial   Farming-fishing   Handlers-cleaners  \\\n",
              "workclass                                                                   \n",
              " Federal-gov                    175                 8                  22   \n",
              " Local-gov                      211                28                  46   \n",
              " Private                       2333               430                1064   \n",
              " Self-emp-inc                   369                51                   2   \n",
              " Self-emp-not-inc               375               419                  15   \n",
              " State-gov                      183                15                   9   \n",
              " Without-pay                      0                 6                   1   \n",
              "\n",
              "occupation          Machine-op-inspct   Other-service   Priv-house-serv  \\\n",
              "workclass                                                                 \n",
              " Federal-gov                       14              34                 0   \n",
              " Local-gov                         11             187                 0   \n",
              " Private                         1581            2370               141   \n",
              " Self-emp-inc                      10              27                 0   \n",
              " Self-emp-not-inc                  35             173                 0   \n",
              " State-gov                         13             122                 0   \n",
              " Without-pay                        1               1                 0   \n",
              "\n",
              "occupation          Prof-specialty   Protective-serv   Sales   Tech-support  \\\n",
              "workclass                                                                     \n",
              " Federal-gov                   165                27      14             66   \n",
              " Local-gov                     667               291       7             38   \n",
              " Private                      2042               185    2530            669   \n",
              " Self-emp-inc                  156                 5     275              3   \n",
              " Self-emp-not-inc              360                 6     368             26   \n",
              " State-gov                     393               112      11             56   \n",
              " Without-pay                     0                 0       0              0   \n",
              "\n",
              "occupation          Transport-moving  \n",
              "workclass                             \n",
              " Federal-gov                      24  \n",
              " Local-gov                       112  \n",
              " Private                        1099  \n",
              " Self-emp-inc                     26  \n",
              " Self-emp-not-inc                118  \n",
              " State-gov                        40  \n",
              " Without-pay                       1  "
            ]
          },
          "execution_count": 101,
          "metadata": {},
          "output_type": "execute_result"
        }
      ],
      "source": [
        "pd.crosstab(Train['workclass'],Train['occupation'])"
      ]
    },
    {
      "cell_type": "code",
      "execution_count": null,
      "id": "418d427a",
      "metadata": {
        "id": "418d427a",
        "outputId": "6d572258-952c-4836-cd4e-693ad4b7dbae"
      },
      "outputs": [
        {
          "data": {
            "image/png": "[encoded data removed]",
            "text/plain": [
              "<Figure size 640x480 with 1 Axes>"
            ]
          },
          "metadata": {},
          "output_type": "display_data"
        },
        {
          "data": {
            "text/plain": [
              " <=50K    20023\n",
              " >50K      6880\n",
              "Name: Salary, dtype: int64"
            ]
          },
          "execution_count": 102,
          "metadata": {},
          "output_type": "execute_result"
        }
      ],
      "source": [
        "sns.countplot(x='Salary',data= Train)\n",
        "plt.xlabel('Salary')\n",
        "plt.ylabel('count')\n",
        "plt.show()\n",
        "Train['Salary'].value_counts()"
      ]
    },
    {
      "cell_type": "code",
      "execution_count": null,
      "id": "716e3f63",
      "metadata": {
        "id": "716e3f63",
        "outputId": "6a75cf62-c324-465e-a646-d6988dededa7"
      },
      "outputs": [
        {
          "data": {
            "image/png": "[encoded data removed]",
            "text/plain": [
              "<Figure size 640x480 with 1 Axes>"
            ]
          },
          "metadata": {},
          "output_type": "display_data"
        },
        {
          "data": {
            "text/plain": [
              " <=50K    10620\n",
              " >50K      3510\n",
              "Name: Salary, dtype: int64"
            ]
          },
          "execution_count": 103,
          "metadata": {},
          "output_type": "execute_result"
        }
      ],
      "source": [
        "sns.countplot(x='Salary',data= Test)\n",
        "plt.xlabel('Salary')\n",
        "plt.ylabel('count')\n",
        "plt.show()\n",
        "Test['Salary'].value_counts()"
      ]
    },
    {
      "cell_type": "code",
      "execution_count": null,
      "id": "c931cd65",
      "metadata": {
        "id": "c931cd65",
        "outputId": "8ffb29ad-7179-458e-deab-c270dffd4b34"
      },
      "outputs": [
        {
          "data": {
            "image/png": "[encoded data removed]",
            "text/plain": [
              "<Figure size 640x480 with 1 Axes>"
            ]
          },
          "metadata": {},
          "output_type": "display_data"
        }
      ],
      "source": [
        "pd.crosstab(Train['Salary'],Train['education']).mean().plot(kind='bar')\n",
        "plt.show()"
      ]
    },
    {
      "cell_type": "code",
      "execution_count": null,
      "id": "4d38cf28",
      "metadata": {
        "id": "4d38cf28"
      },
      "outputs": [],
      "source": [
        "string_columns = [\"workclass\",\"education\",\"maritalstatus\",\"occupation\",\"relationship\",\"race\",\"sex\",\"native\"]"
      ]
    },
    {
      "cell_type": "code",
      "execution_count": null,
      "id": "fcba8e69",
      "metadata": {
        "id": "fcba8e69"
      },
      "outputs": [],
      "source": [
        "from sklearn.preprocessing import LabelEncoder"
      ]
    },
    {
      "cell_type": "code",
      "execution_count": null,
      "id": "48fe9f55",
      "metadata": {
        "id": "48fe9f55"
      },
      "outputs": [],
      "source": [
        "##Preprocessing the data. As, there are categorical variables\n",
        "number = LabelEncoder()\n",
        "for i in string_columns:\n",
        "        Train[i]= number.fit_transform(Train[i])\n",
        "        Test[i]=number.fit_transform(Test[i])"
      ]
    },
    {
      "cell_type": "code",
      "execution_count": null,
      "id": "0b92d350",
      "metadata": {
        "id": "0b92d350",
        "outputId": "aac41ea6-e10f-41d3-9e79-405f2292ef8f"
      },
      "outputs": [
        {
          "data": {
            "text/html": [
              "<div>\n",
              "<style scoped>\n",
              "    .dataframe tbody tr th:only-of-type {\n",
              "        vertical-align: middle;\n",
              "    }\n",
              "\n",
              "    .dataframe tbody tr th {\n",
              "        vertical-align: top;\n",
              "    }\n",
              "\n",
              "    .dataframe thead th {\n",
              "        text-align: right;\n",
              "    }\n",
              "</style>\n",
              "<table border=\"1\" class=\"dataframe\">\n",
              "  <thead>\n",
              "    <tr style=\"text-align: right;\">\n",
              "      <th></th>\n",
              "      <th>age</th>\n",
              "      <th>workclass</th>\n",
              "      <th>education</th>\n",
              "      <th>educationno</th>\n",
              "      <th>maritalstatus</th>\n",
              "      <th>occupation</th>\n",
              "      <th>relationship</th>\n",
              "      <th>race</th>\n",
              "      <th>sex</th>\n",
              "      <th>capitalgain</th>\n",
              "      <th>capitalloss</th>\n",
              "      <th>hoursperweek</th>\n",
              "      <th>native</th>\n",
              "      <th>Salary</th>\n",
              "    </tr>\n",
              "  </thead>\n",
              "  <tbody>\n",
              "    <tr>\n",
              "      <th>0</th>\n",
              "      <td>39</td>\n",
              "      <td>5</td>\n",
              "      <td>9</td>\n",
              "      <td>13</td>\n",
              "      <td>4</td>\n",
              "      <td>0</td>\n",
              "      <td>1</td>\n",
              "      <td>4</td>\n",
              "      <td>1</td>\n",
              "      <td>2174</td>\n",
              "      <td>0</td>\n",
              "      <td>40</td>\n",
              "      <td>37</td>\n",
              "      <td>&lt;=50K</td>\n",
              "    </tr>\n",
              "    <tr>\n",
              "      <th>1</th>\n",
              "      <td>50</td>\n",
              "      <td>4</td>\n",
              "      <td>9</td>\n",
              "      <td>13</td>\n",
              "      <td>2</td>\n",
              "      <td>3</td>\n",
              "      <td>0</td>\n",
              "      <td>4</td>\n",
              "      <td>1</td>\n",
              "      <td>0</td>\n",
              "      <td>0</td>\n",
              "      <td>13</td>\n",
              "      <td>37</td>\n",
              "      <td>&lt;=50K</td>\n",
              "    </tr>\n",
              "    <tr>\n",
              "      <th>2</th>\n",
              "      <td>38</td>\n",
              "      <td>2</td>\n",
              "      <td>11</td>\n",
              "      <td>9</td>\n",
              "      <td>0</td>\n",
              "      <td>5</td>\n",
              "      <td>1</td>\n",
              "      <td>4</td>\n",
              "      <td>1</td>\n",
              "      <td>0</td>\n",
              "      <td>0</td>\n",
              "      <td>40</td>\n",
              "      <td>37</td>\n",
              "      <td>&lt;=50K</td>\n",
              "    </tr>\n",
              "    <tr>\n",
              "      <th>3</th>\n",
              "      <td>53</td>\n",
              "      <td>2</td>\n",
              "      <td>1</td>\n",
              "      <td>7</td>\n",
              "      <td>2</td>\n",
              "      <td>5</td>\n",
              "      <td>0</td>\n",
              "      <td>2</td>\n",
              "      <td>1</td>\n",
              "      <td>0</td>\n",
              "      <td>0</td>\n",
              "      <td>40</td>\n",
              "      <td>37</td>\n",
              "      <td>&lt;=50K</td>\n",
              "    </tr>\n",
              "    <tr>\n",
              "      <th>4</th>\n",
              "      <td>28</td>\n",
              "      <td>2</td>\n",
              "      <td>9</td>\n",
              "      <td>13</td>\n",
              "      <td>2</td>\n",
              "      <td>9</td>\n",
              "      <td>5</td>\n",
              "      <td>2</td>\n",
              "      <td>0</td>\n",
              "      <td>0</td>\n",
              "      <td>0</td>\n",
              "      <td>40</td>\n",
              "      <td>4</td>\n",
              "      <td>&lt;=50K</td>\n",
              "    </tr>\n",
              "  </tbody>\n",
              "</table>\n",
              "</div>"
            ],
            "text/plain": [
              "   age  workclass  education  educationno  maritalstatus  occupation  \\\n",
              "0   39          5          9           13              4           0   \n",
              "1   50          4          9           13              2           3   \n",
              "2   38          2         11            9              0           5   \n",
              "3   53          2          1            7              2           5   \n",
              "4   28          2          9           13              2           9   \n",
              "\n",
              "   relationship  race  sex  capitalgain  capitalloss  hoursperweek  native  \\\n",
              "0             1     4    1         2174            0            40      37   \n",
              "1             0     4    1            0            0            13      37   \n",
              "2             1     4    1            0            0            40      37   \n",
              "3             0     2    1            0            0            40      37   \n",
              "4             5     2    0            0            0            40       4   \n",
              "\n",
              "   Salary  \n",
              "0   <=50K  \n",
              "1   <=50K  \n",
              "2   <=50K  \n",
              "3   <=50K  \n",
              "4   <=50K  "
            ]
          },
          "execution_count": 109,
          "metadata": {},
          "output_type": "execute_result"
        }
      ],
      "source": [
        "Train.head()"
      ]
    },
    {
      "cell_type": "code",
      "execution_count": null,
      "id": "d254e1ca",
      "metadata": {
        "id": "d254e1ca",
        "outputId": "c30f6660-bfdd-4579-ceb8-0c83e3353e01"
      },
      "outputs": [
        {
          "data": {
            "text/html": [
              "<div>\n",
              "<style scoped>\n",
              "    .dataframe tbody tr th:only-of-type {\n",
              "        vertical-align: middle;\n",
              "    }\n",
              "\n",
              "    .dataframe tbody tr th {\n",
              "        vertical-align: top;\n",
              "    }\n",
              "\n",
              "    .dataframe thead th {\n",
              "        text-align: right;\n",
              "    }\n",
              "</style>\n",
              "<table border=\"1\" class=\"dataframe\">\n",
              "  <thead>\n",
              "    <tr style=\"text-align: right;\">\n",
              "      <th></th>\n",
              "      <th>age</th>\n",
              "      <th>workclass</th>\n",
              "      <th>education</th>\n",
              "      <th>educationno</th>\n",
              "      <th>maritalstatus</th>\n",
              "      <th>occupation</th>\n",
              "      <th>relationship</th>\n",
              "      <th>race</th>\n",
              "      <th>sex</th>\n",
              "      <th>capitalgain</th>\n",
              "      <th>capitalloss</th>\n",
              "      <th>hoursperweek</th>\n",
              "      <th>native</th>\n",
              "      <th>Salary</th>\n",
              "    </tr>\n",
              "  </thead>\n",
              "  <tbody>\n",
              "    <tr>\n",
              "      <th>0</th>\n",
              "      <td>25</td>\n",
              "      <td>2</td>\n",
              "      <td>1</td>\n",
              "      <td>7</td>\n",
              "      <td>4</td>\n",
              "      <td>6</td>\n",
              "      <td>3</td>\n",
              "      <td>2</td>\n",
              "      <td>1</td>\n",
              "      <td>0</td>\n",
              "      <td>0</td>\n",
              "      <td>40</td>\n",
              "      <td>37</td>\n",
              "      <td>&lt;=50K</td>\n",
              "    </tr>\n",
              "    <tr>\n",
              "      <th>1</th>\n",
              "      <td>38</td>\n",
              "      <td>2</td>\n",
              "      <td>11</td>\n",
              "      <td>9</td>\n",
              "      <td>2</td>\n",
              "      <td>4</td>\n",
              "      <td>0</td>\n",
              "      <td>4</td>\n",
              "      <td>1</td>\n",
              "      <td>0</td>\n",
              "      <td>0</td>\n",
              "      <td>50</td>\n",
              "      <td>37</td>\n",
              "      <td>&lt;=50K</td>\n",
              "    </tr>\n",
              "    <tr>\n",
              "      <th>2</th>\n",
              "      <td>28</td>\n",
              "      <td>1</td>\n",
              "      <td>7</td>\n",
              "      <td>12</td>\n",
              "      <td>2</td>\n",
              "      <td>10</td>\n",
              "      <td>0</td>\n",
              "      <td>4</td>\n",
              "      <td>1</td>\n",
              "      <td>0</td>\n",
              "      <td>0</td>\n",
              "      <td>40</td>\n",
              "      <td>37</td>\n",
              "      <td>&gt;50K</td>\n",
              "    </tr>\n",
              "    <tr>\n",
              "      <th>3</th>\n",
              "      <td>44</td>\n",
              "      <td>2</td>\n",
              "      <td>15</td>\n",
              "      <td>10</td>\n",
              "      <td>2</td>\n",
              "      <td>6</td>\n",
              "      <td>0</td>\n",
              "      <td>2</td>\n",
              "      <td>1</td>\n",
              "      <td>7688</td>\n",
              "      <td>0</td>\n",
              "      <td>40</td>\n",
              "      <td>37</td>\n",
              "      <td>&gt;50K</td>\n",
              "    </tr>\n",
              "    <tr>\n",
              "      <th>4</th>\n",
              "      <td>34</td>\n",
              "      <td>2</td>\n",
              "      <td>0</td>\n",
              "      <td>6</td>\n",
              "      <td>4</td>\n",
              "      <td>7</td>\n",
              "      <td>1</td>\n",
              "      <td>4</td>\n",
              "      <td>1</td>\n",
              "      <td>0</td>\n",
              "      <td>0</td>\n",
              "      <td>30</td>\n",
              "      <td>37</td>\n",
              "      <td>&lt;=50K</td>\n",
              "    </tr>\n",
              "  </tbody>\n",
              "</table>\n",
              "</div>"
            ],
            "text/plain": [
              "   age  workclass  education  educationno  maritalstatus  occupation  \\\n",
              "0   25          2          1            7              4           6   \n",
              "1   38          2         11            9              2           4   \n",
              "2   28          1          7           12              2          10   \n",
              "3   44          2         15           10              2           6   \n",
              "4   34          2          0            6              4           7   \n",
              "\n",
              "   relationship  race  sex  capitalgain  capitalloss  hoursperweek  native  \\\n",
              "0             3     2    1            0            0            40      37   \n",
              "1             0     4    1            0            0            50      37   \n",
              "2             0     4    1            0            0            40      37   \n",
              "3             0     2    1         7688            0            40      37   \n",
              "4             1     4    1            0            0            30      37   \n",
              "\n",
              "   Salary  \n",
              "0   <=50K  \n",
              "1   <=50K  \n",
              "2    >50K  \n",
              "3    >50K  \n",
              "4   <=50K  "
            ]
          },
          "execution_count": 110,
          "metadata": {},
          "output_type": "execute_result"
        }
      ],
      "source": [
        "Test.head()"
      ]
    },
    {
      "cell_type": "markdown",
      "id": "080653f8",
      "metadata": {
        "id": "080653f8"
      },
      "source": [
        "# Data Splitting"
      ]
    },
    {
      "cell_type": "code",
      "execution_count": null,
      "id": "3f095067",
      "metadata": {
        "id": "3f095067",
        "outputId": "ee5dde81-d006-4236-ae3d-d41c3bb738ff"
      },
      "outputs": [
        {
          "data": {
            "text/plain": [
              "Index(['age', 'workclass', 'education', 'educationno', 'maritalstatus',\n",
              "       'occupation', 'relationship', 'race', 'sex', 'capitalgain',\n",
              "       'capitalloss', 'hoursperweek', 'native', 'Salary'],\n",
              "      dtype='object')"
            ]
          },
          "execution_count": 111,
          "metadata": {},
          "output_type": "execute_result"
        }
      ],
      "source": [
        "##Capturing the column names which can help in futher process\n",
        "colnames = Train.columns\n",
        "colnames"
      ]
    },
    {
      "cell_type": "code",
      "execution_count": null,
      "id": "7eeb4dc5",
      "metadata": {
        "id": "7eeb4dc5"
      },
      "outputs": [],
      "source": [
        "# storing the values in x_train,y_train,x_test & y_test for spliting the data in train and test for analysis\n",
        "x_train = Train[colnames[0:13]].values\n",
        "y_train = Train[colnames[13]].values\n",
        "x_test = Test[colnames[0:13]].values\n",
        "y_test = Test[colnames[13]].values"
      ]
    },
    {
      "cell_type": "code",
      "execution_count": null,
      "id": "52ad5f88",
      "metadata": {
        "id": "52ad5f88"
      },
      "outputs": [],
      "source": [
        "##Normalmization\n",
        "def norm_func(i):\n",
        "    x = (i-i.min())/(i.max()-i.min())\n",
        "    return (x)"
      ]
    },
    {
      "cell_type": "code",
      "execution_count": null,
      "id": "bae41ef6",
      "metadata": {
        "id": "bae41ef6",
        "outputId": "250e85e2-c65a-4bc1-beeb-c5d41297e818"
      },
      "outputs": [
        {
          "data": {
            "text/plain": [
              "array([[39,  5,  9, ...,  0, 40, 37],\n",
              "       [50,  4,  9, ...,  0, 13, 37],\n",
              "       [38,  2, 11, ...,  0, 40, 37],\n",
              "       ...,\n",
              "       [27,  2,  7, ...,  0, 38, 37],\n",
              "       [58,  2, 11, ...,  0, 40, 37],\n",
              "       [52,  3, 11, ...,  0, 40, 37]], dtype=int64)"
            ]
          },
          "execution_count": 114,
          "metadata": {},
          "output_type": "execute_result"
        }
      ],
      "source": [
        "x_train"
      ]
    },
    {
      "cell_type": "code",
      "execution_count": null,
      "id": "a3cbaaec",
      "metadata": {
        "id": "a3cbaaec",
        "outputId": "88ffd62c-16e5-4285-aea4-f92d39b01352"
      },
      "outputs": [
        {
          "data": {
            "text/plain": [
              "array([[25,  2,  1, ...,  0, 40, 37],\n",
              "       [38,  2, 11, ...,  0, 50, 37],\n",
              "       [28,  1,  7, ...,  0, 40, 37],\n",
              "       ...,\n",
              "       [38,  2,  9, ...,  0, 50, 37],\n",
              "       [44,  2,  9, ...,  0, 40, 37],\n",
              "       [35,  3,  9, ...,  0, 60, 37]], dtype=int64)"
            ]
          },
          "execution_count": 115,
          "metadata": {},
          "output_type": "execute_result"
        }
      ],
      "source": [
        "x_test"
      ]
    },
    {
      "cell_type": "code",
      "execution_count": null,
      "id": "1e6b8bfc",
      "metadata": {
        "id": "1e6b8bfc",
        "outputId": "390748a2-ac2f-41d5-ddd9-ff0293972311"
      },
      "outputs": [
        {
          "data": {
            "text/plain": [
              "array([' <=50K', ' <=50K', ' <=50K', ..., ' <=50K', ' <=50K', ' >50K'],\n",
              "      dtype=object)"
            ]
          },
          "execution_count": 116,
          "metadata": {},
          "output_type": "execute_result"
        }
      ],
      "source": [
        "y_train"
      ]
    },
    {
      "cell_type": "code",
      "execution_count": null,
      "id": "ca2ffd5c",
      "metadata": {
        "id": "ca2ffd5c",
        "outputId": "9cf6ddcf-fcbf-40d8-be11-a011cdb56e22"
      },
      "outputs": [
        {
          "data": {
            "text/plain": [
              "array([' <=50K', ' <=50K', ' >50K', ..., ' <=50K', ' <=50K', ' >50K'],\n",
              "      dtype=object)"
            ]
          },
          "execution_count": 117,
          "metadata": {},
          "output_type": "execute_result"
        }
      ],
      "source": [
        "y_test"
      ]
    },
    {
      "cell_type": "code",
      "execution_count": null,
      "id": "ec087961",
      "metadata": {
        "id": "ec087961"
      },
      "outputs": [],
      "source": [
        "x_train = norm_func(x_train)\n",
        "x_test =  norm_func(x_test)"
      ]
    },
    {
      "cell_type": "markdown",
      "id": "f5c79aa9",
      "metadata": {
        "id": "f5c79aa9"
      },
      "source": [
        "# Applying naive bayes for classification\n",
        "\n",
        "### 1.Multinomial Naive Bayes: It is used for discrete counts. For example, let’s say,  we have a text classification problem. Here we can consider Bernoulli trials which is one step further and instead of “word occurring in the document”, we have “count how often word occurs in the document”, you can think of it as “number of times outcome number x_i is observed over the n trials”."
      ]
    },
    {
      "cell_type": "code",
      "execution_count": null,
      "id": "9431bbaf",
      "metadata": {
        "id": "9431bbaf"
      },
      "outputs": [],
      "source": [
        "# Preparing a naive bayes model on training data set\n",
        "\n",
        "from sklearn.naive_bayes import MultinomialNB as MB\n",
        "\n",
        "M_model=MB()\n",
        "train_pred_multi=M_model.fit(x_train,y_train).predict(x_train)\n",
        "test_pred_multi=M_model.fit(x_train,y_train).predict(x_test)"
      ]
    },
    {
      "cell_type": "code",
      "execution_count": null,
      "id": "5da1f880",
      "metadata": {
        "id": "5da1f880",
        "outputId": "a8e5e599-3885-4bfe-b8b9-87dd82cd5a63"
      },
      "outputs": [
        {
          "data": {
            "text/plain": [
              "0.7442664386871353"
            ]
          },
          "execution_count": 120,
          "metadata": {},
          "output_type": "execute_result"
        }
      ],
      "source": [
        "train_acc_multi=np.mean(train_pred_multi==y_train)\n",
        "train_acc_multi ## train accuracy 74.42"
      ]
    },
    {
      "cell_type": "code",
      "execution_count": null,
      "id": "83399ced",
      "metadata": {
        "id": "83399ced",
        "outputId": "03e0bd64-4944-4e17-f65f-fe3ca49aad0d"
      },
      "outputs": [
        {
          "data": {
            "text/plain": [
              "0.7515923566878981"
            ]
          },
          "execution_count": 121,
          "metadata": {},
          "output_type": "execute_result"
        }
      ],
      "source": [
        "test_acc_multi=np.mean(test_pred_multi==y_test)\n",
        "test_acc_multi ## test acuracy 75.15"
      ]
    },
    {
      "cell_type": "code",
      "execution_count": null,
      "id": "10596352",
      "metadata": {
        "id": "10596352"
      },
      "outputs": [],
      "source": [
        "# Making the Confusion Matrix\n",
        "from sklearn.metrics import confusion_matrix\n",
        "confusion_matrix = confusion_matrix(y_test, test_pred_multi)"
      ]
    },
    {
      "cell_type": "code",
      "execution_count": null,
      "id": "cdefcf5a",
      "metadata": {
        "id": "cdefcf5a",
        "outputId": "a4b3680b-8996-4f5c-e90d-cee34decc069"
      },
      "outputs": [
        {
          "data": {
            "text/plain": [
              "array([[10620,     0],\n",
              "       [ 3510,     0]], dtype=int64)"
            ]
          },
          "execution_count": 123,
          "metadata": {},
          "output_type": "execute_result"
        }
      ],
      "source": [
        "confusion_matrix"
      ]
    },
    {
      "cell_type": "code",
      "execution_count": null,
      "id": "0cd86514",
      "metadata": {
        "id": "0cd86514",
        "outputId": "eb1214a9-0882-4d45-c94a-dae55322dc5e"
      },
      "outputs": [
        {
          "name": "stdout",
          "output_type": "stream",
          "text": [
            "0.7515923566878981\n"
          ]
        }
      ],
      "source": [
        "#calculating the accuracy of this model w.r.t. this dataset\n",
        "from sklearn.metrics import accuracy_score\n",
        "print(accuracy_score(y_test,test_pred_multi))"
      ]
    },
    {
      "cell_type": "markdown",
      "id": "a5aa59f5",
      "metadata": {
        "id": "a5aa59f5"
      },
      "source": [
        "# 2.Gaussian Naive Bayes: gaussiannb is used in classification tasks and it assumes that feature values follow a gaussian distribution."
      ]
    },
    {
      "cell_type": "code",
      "execution_count": null,
      "id": "2f773cc1",
      "metadata": {
        "id": "2f773cc1"
      },
      "outputs": [],
      "source": [
        "from sklearn.naive_bayes import GaussianNB as GB\n",
        "G_model=GB()\n",
        "train_pred_gau=G_model.fit(x_train,y_train).predict(x_train)\n",
        "test_pred_gau=G_model.fit(x_train,y_train).predict(x_test)"
      ]
    },
    {
      "cell_type": "code",
      "execution_count": null,
      "id": "b2d97404",
      "metadata": {
        "id": "b2d97404",
        "outputId": "f80a2d98-39f8-4082-eb0d-a196dc0e7144"
      },
      "outputs": [
        {
          "data": {
            "text/plain": [
              "0.7933687692822362"
            ]
          },
          "execution_count": 126,
          "metadata": {},
          "output_type": "execute_result"
        }
      ],
      "source": [
        "train_acc_gau=np.mean(train_pred_gau==y_train)\n",
        "train_acc_gau ## train accuracy 79.33"
      ]
    },
    {
      "cell_type": "code",
      "execution_count": null,
      "id": "44be49b1",
      "metadata": {
        "id": "44be49b1",
        "outputId": "0c8665a0-17c7-4d72-cc7d-824135a63ff7"
      },
      "outputs": [
        {
          "data": {
            "text/plain": [
              "0.7951875442321302"
            ]
          },
          "execution_count": 127,
          "metadata": {},
          "output_type": "execute_result"
        }
      ],
      "source": [
        "test_acc_gau=np.mean(test_pred_gau==y_test)\n",
        "test_acc_gau ## test acuracy 79.57"
      ]
    },
    {
      "cell_type": "code",
      "execution_count": null,
      "id": "24a96c54",
      "metadata": {
        "id": "24a96c54"
      },
      "outputs": [],
      "source": [
        "# Making the Confusion Matrix\n",
        "from sklearn.metrics import confusion_matrix\n",
        "confusion_matrix = confusion_matrix(y_test, test_pred_gau)"
      ]
    },
    {
      "cell_type": "code",
      "execution_count": null,
      "id": "15fbc4dd",
      "metadata": {
        "id": "15fbc4dd",
        "outputId": "8dc9de43-7a13-42d3-ebfb-5ce399e4b9df"
      },
      "outputs": [
        {
          "data": {
            "text/plain": [
              "array([[10056,   564],\n",
              "       [ 2330,  1180]], dtype=int64)"
            ]
          },
          "execution_count": 129,
          "metadata": {},
          "output_type": "execute_result"
        }
      ],
      "source": [
        "confusion_matrix"
      ]
    },
    {
      "cell_type": "code",
      "execution_count": null,
      "id": "55615e24",
      "metadata": {
        "id": "55615e24",
        "outputId": "408a896d-3555-46d9-d61f-6bd5b94b156c"
      },
      "outputs": [
        {
          "name": "stdout",
          "output_type": "stream",
          "text": [
            "0.7951875442321302\n"
          ]
        }
      ],
      "source": [
        "#calculating the accuracy of this model w.r.t. this dataset\n",
        "from sklearn.metrics import accuracy_score\n",
        "print(accuracy_score(y_test,test_pred_gau))"
      ]
    },
    {
      "cell_type": "code",
      "execution_count": null,
      "id": "6671e4c3",
      "metadata": {
        "id": "6671e4c3",
        "outputId": "dc10cf09-bca3-4e0f-8d80-1f693bf475e8"
      },
      "outputs": [
        {
          "name": "stdout",
          "output_type": "stream",
          "text": [
            "              precision    recall  f1-score   support\n",
            "\n",
            "       <=50K       0.81      0.95      0.87     10620\n",
            "        >50K       0.68      0.34      0.45      3510\n",
            "\n",
            "    accuracy                           0.80     14130\n",
            "   macro avg       0.74      0.64      0.66     14130\n",
            "weighted avg       0.78      0.80      0.77     14130\n",
            "\n"
          ]
        }
      ],
      "source": [
        "from sklearn.metrics import classification_report#The recall is the measure of our model correctly identifying True Positives.\n",
        "\n",
        "print(classification_report(y_test, test_pred_gau))"
      ]
    },
    {
      "cell_type": "code",
      "execution_count": null,
      "id": "8102cc51",
      "metadata": {
        "id": "8102cc51",
        "outputId": "d24d1536-e770-4fb9-9c32-c4f005120cb8"
      },
      "outputs": [
        {
          "name": "stdout",
          "output_type": "stream",
          "text": [
            "Cross-validation scores:[0.74433296 0.74433296 0.74433296 0.74423792 0.74423792 0.74423792\n",
            " 0.74423792 0.74423792 0.74423792 0.74423792]\n"
          ]
        }
      ],
      "source": [
        "# Applying 10-Fold Cross Validation\n",
        "\n",
        "from sklearn.model_selection import cross_val_score\n",
        "\n",
        "scores = cross_val_score(M_model, x_train, y_train, cv = 10, scoring='accuracy')\n",
        "\n",
        "print('Cross-validation scores:{}'.format(scores))"
      ]
    },
    {
      "cell_type": "code",
      "execution_count": null,
      "id": "bbef6fd5",
      "metadata": {
        "id": "bbef6fd5",
        "outputId": "13ce3508-e33e-4954-daba-9a4da1fa35ff"
      },
      "outputs": [
        {
          "name": "stdout",
          "output_type": "stream",
          "text": [
            "Average cross-validation score: 0.7443\n"
          ]
        }
      ],
      "source": [
        "# compute Average cross-validation score\n",
        "\n",
        "print('Average cross-validation score: {:.4f}'.format(scores.mean()))"
      ]
    },
    {
      "cell_type": "code",
      "execution_count": null,
      "id": "efb7a32a",
      "metadata": {
        "id": "efb7a32a"
      },
      "outputs": [],
      "source": []
    }
  ],
  "metadata": {
    "kernelspec": {
      "display_name": "Python 3 (ipykernel)",
      "language": "python",
      "name": "python3"
    },
    "language_info": {
      "codemirror_mode": {
        "name": "ipython",
        "version": 3
      },
      "file_extension": ".py",
      "mimetype": "text/x-python",
      "name": "python",
      "nbconvert_exporter": "python",
      "pygments_lexer": "ipython3",
      "version": "3.11.4"
    },
    "colab": {
      "provenance": []
    }
  },
  "nbformat": 4,
  "nbformat_minor": 5
}